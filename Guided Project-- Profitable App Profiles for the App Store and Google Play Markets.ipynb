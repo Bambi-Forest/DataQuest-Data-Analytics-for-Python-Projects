{
 "cells": [
  {
   "cell_type": "markdown",
   "id": "a9bfd84a",
   "metadata": {},
   "source": [
    "# Which Android and IOS Mobile Apps has the capability to gain more attention due to in-app ads\n",
    "\n",
    "- Objective: We only build apps that are free to download and install, and our main source of revenue consists of in-app ads. The number of users of our apps determines our revenue for any given app, so the more users who see and engage with the ads, the better.\n",
    "\n",
    "- The goal of this project: Analyze data to help our developers understand what type of apps are likely to attract more users.\n"
   ]
  },
  {
   "cell_type": "markdown",
   "id": "539254e9",
   "metadata": {},
   "source": [
    "- Please go to: [Apple Store App Documentation](https://www.kaggle.com/ramamet4/app-store-apple-data-set-10k-apps) for more information about the Apple Store App dataset.\n",
    "- Please fo to: [Google Play App Documentation](https://www.kaggle.com/lava18/google-play-store-apps) for more information about the Google Play App dataset."
   ]
  },
  {
   "cell_type": "markdown",
   "id": "e5f72c6c",
   "metadata": {},
   "source": [
    "- We obtained data from Google Play with approximately 10,000 Android apps that was collected in August 2018\n",
    "- We obtained data from Google Play with approximately 7,000 Android apps that was collected in July 2017"
   ]
  },
  {
   "cell_type": "markdown",
   "id": "24b20b90",
   "metadata": {},
   "source": [
    "## Opening and Exploring the Data"
   ]
  },
  {
   "cell_type": "markdown",
   "id": "1847e34a",
   "metadata": {},
   "source": [
    "- Lets open the Google Play Store and Apple Store Data file\n",
    "- The data is broken into a header variable (`android_header/IOS_header`)where the name of the columns are and a dataset variable (`android/IOS`)where the rest of the data that houses the Data points will be contained."
   ]
  },
  {
   "cell_type": "code",
   "execution_count": 1,
   "id": "00e2bbed",
   "metadata": {},
   "outputs": [],
   "source": [
    "from csv import reader\n",
    "\n",
    "#open Android Data set\n",
    "open_android_file = open('googleplaystore.csv',encoding=\"utf8\")\n",
    "read_android_file = reader(open_android_file)\n",
    "android_dataset = list(read_android_file)\n",
    "android_header = android_dataset[0]\n",
    "android = android_dataset[1:]\n",
    "\n",
    "#open IOS Data set\n",
    "open_IOS_file = open('AppleStore.csv',encoding=\"utf8\")\n",
    "read_IOS_file = reader(open_IOS_file)\n",
    "IOS_dataset = list(read_IOS_file)\n",
    "IOS_header = IOS_dataset[0]\n",
    "IOS = IOS_dataset[1:]\n"
   ]
  },
  {
   "cell_type": "markdown",
   "id": "560eda91",
   "metadata": {},
   "source": [
    "Here a function `explore_data` is created to take in four parameters.(The `dataset`, `starting row`, `ending row`, and if the dataset has `rows and columns`.)\n",
    "\n",
    "This function allows readibility and reusablity to take in a dataset, where a beginning row and ending row can be specified to be printed as an output when the function is called. \n",
    "\n",
    "If there are rows and columns available within the dataset, the number of rows and columns will be printed as the output.\n"
   ]
  },
  {
   "cell_type": "code",
   "execution_count": 2,
   "id": "93230c86",
   "metadata": {},
   "outputs": [
    {
     "name": "stdout",
     "output_type": "stream",
     "text": [
      "\n",
      " Apple Store App Data \n",
      "\n",
      "['', 'id', 'track_name', 'size_bytes', 'currency', 'price', 'rating_count_tot', 'rating_count_ver', 'user_rating', 'user_rating_ver', 'ver', 'cont_rating', 'prime_genre', 'sup_devices.num', 'ipadSc_urls.num', 'lang.num', 'vpp_lic']\n",
      "\n",
      "\n",
      "['1', '281656475', 'PAC-MAN Premium', '100788224', 'USD', '3.99', '21292', '26', '4', '4.5', '6.3.5', '4+', 'Games', '38', '5', '10', '1']\n",
      "\n",
      "\n",
      "['2', '281796108', 'Evernote - stay organized', '158578688', 'USD', '0', '161065', '26', '4', '3.5', '8.2.2', '4+', 'Productivity', '37', '5', '23', '1']\n",
      "\n",
      "\n",
      "['3', '281940292', 'WeatherBug - Local Weather, Radar, Maps, Alerts', '100524032', 'USD', '0', '188583', '2822', '3.5', '4.5', '5.0.0', '4+', 'Weather', '37', '5', '3', '1']\n",
      "\n",
      "\n",
      "['4', '282614216', 'eBay: Best App to Buy, Sell, Save! Online Shopping', '128512000', 'USD', '0', '262241', '649', '4', '4.5', '5.10.0', '12+', 'Shopping', '37', '5', '9', '1']\n",
      "\n",
      "\n",
      "['5', '282935706', 'Bible', '92774400', 'USD', '0', '985920', '5320', '4.5', '5', '7.5.1', '4+', 'Reference', '37', '5', '45', '1']\n",
      "\n",
      "\n",
      "Number of rows: 7197\n",
      "Number of columns: 17\n"
     ]
    }
   ],
   "source": [
    "def explore_data(dataset, start, end, rows_and_columns=False):\n",
    "    dataset_slice = dataset[start:end]\n",
    "    for each_row in dataset_slice:\n",
    "        print(each_row)\n",
    "        print('\\n') \n",
    "        \n",
    "    if rows_and_columns:\n",
    "        print('Number of rows:', len(dataset))\n",
    "        print('Number of columns:', len(dataset[0]))\n",
    "\n",
    "print('\\n Apple Store App Data \\n')\n",
    "print(IOS_header)\n",
    "print('\\n')\n",
    "explore_data(IOS, 0 , 5, True)\n",
    "\n",
    "\n"
   ]
  },
  {
   "cell_type": "markdown",
   "id": "55485148",
   "metadata": {},
   "source": [
    "- The total number of rows for Apple store is 7,197.\n",
    "- The total number of columns is 17.\n",
    "- The data columns that the analsis may be interested in to get started with our analysis is the `track_name`, `price`, `rating_count_total`, `user_rating`, `cont_rating`, and `prime_genre`."
   ]
  },
  {
   "cell_type": "code",
   "execution_count": 3,
   "id": "f1c55a45",
   "metadata": {
    "scrolled": false
   },
   "outputs": [
    {
     "name": "stdout",
     "output_type": "stream",
     "text": [
      "\n",
      " Google Play App Data \n",
      "\n",
      "['App', 'Category', 'Rating', 'Reviews', 'Size', 'Installs', 'Type', 'Price', 'Content Rating', 'Genres', 'Last Updated', 'Current Ver', 'Android Ver']\n",
      "\n",
      "\n",
      "['Photo Editor & Candy Camera & Grid & ScrapBook', 'ART_AND_DESIGN', '4.1', '159', '19M', '10,000+', 'Free', '0', 'Everyone', 'Art & Design', 'January 7, 2018', '1.0.0', '4.0.3 and up']\n",
      "\n",
      "\n",
      "['Coloring book moana', 'ART_AND_DESIGN', '3.9', '967', '14M', '500,000+', 'Free', '0', 'Everyone', 'Art & Design;Pretend Play', 'January 15, 2018', '2.0.0', '4.0.3 and up']\n",
      "\n",
      "\n",
      "['U Launcher Lite – FREE Live Cool Themes, Hide Apps', 'ART_AND_DESIGN', '4.7', '87510', '8.7M', '5,000,000+', 'Free', '0', 'Everyone', 'Art & Design', 'August 1, 2018', '1.2.4', '4.0.3 and up']\n",
      "\n",
      "\n",
      "['Sketch - Draw & Paint', 'ART_AND_DESIGN', '4.5', '215644', '25M', '50,000,000+', 'Free', '0', 'Teen', 'Art & Design', 'June 8, 2018', 'Varies with device', '4.2 and up']\n",
      "\n",
      "\n",
      "['Pixel Draw - Number Art Coloring Book', 'ART_AND_DESIGN', '4.3', '967', '2.8M', '100,000+', 'Free', '0', 'Everyone', 'Art & Design;Creativity', 'June 20, 2018', '1.1', '4.4 and up']\n",
      "\n",
      "\n",
      "Number of rows: 10841\n",
      "Number of columns: 13\n"
     ]
    }
   ],
   "source": [
    "print('\\n Google Play App Data \\n')\n",
    "print(android_header)\n",
    "print(\"\\n\")\n",
    "explore_data(android, 0 , 5, True)"
   ]
  },
  {
   "cell_type": "markdown",
   "id": "4a2e4e17",
   "metadata": {},
   "source": [
    "- The total number of rows for Apple Store is 10,841.\n",
    "- The total number of columns is 13.\n",
    "- The data columns that the analsis may be interested in is the `App`, `Category`, `Rating`, `Reviews`, `Installs`, `Type`, `Price`, `Content Rating`, `Genres`, "
   ]
  },
  {
   "cell_type": "markdown",
   "id": "c41ac430",
   "metadata": {},
   "source": [
    "# Cleaning Data Sets\n",
    "Purpose of detecting data deleting wrong data for analysis purposes would help lower the risk of our data analysis results from being inaccurate.\n",
    "\n",
    "- To achieve this based on our developer needs, we need to do the following:\n",
    "1. Correct or remove inaccuare data.\n",
    "2. Remove duplicates detected.\n",
    "3. Remove non-English apps.\n",
    "4. Remove apps that are not free.\n",
    "\n",
    "Google Play Store Data Set\n",
    "- Look through the discussion panel to find any rows mentioned by other people to see if any of the data is compromised by any missing value points.\n",
    "- Row 10474 was found to be missing `Category` column data point.\n",
    "- Searched through the csv file in Excel to find row 10472 which is the actual row.\n",
    "\n",
    "# Testing purposes\n",
    "MISING DATA:\n",
    "- The total length of data in every row is 13.\n",
    "- If any row has a length of 12 or less, means there are missing data points.\n",
    "- If any data are found,print out the row of data to check and than proceed to delete that row of data if its missing values.\n",
    "- This data may be mentoned as well in the discussion panel. "
   ]
  },
  {
   "cell_type": "code",
   "execution_count": 4,
   "id": "c68c8488",
   "metadata": {},
   "outputs": [
    {
     "name": "stdout",
     "output_type": "stream",
     "text": [
      "Length of Header: \n",
      "13\n",
      "['App', 'Category', 'Rating', 'Reviews', 'Size', 'Installs', 'Type', 'Price', 'Content Rating', 'Genres', 'Last Updated', 'Current Ver', 'Android Ver']\n",
      "\n",
      "Length of row 10472: \n",
      "12\n",
      "['Life Made WI-Fi Touchscreen Photo Frame', '1.9', '19', '3.0M', '1,000+', 'Free', '0', 'Everyone', '', 'February 11, 2018', '1.0.19', '4.0 and up']\n",
      "\n",
      "Rows with Missing Data Points Testing Purposes\n",
      "['Life Made WI-Fi Touchscreen Photo Frame', '1.9', '19', '3.0M', '1,000+', 'Free', '0', 'Everyone', '', 'February 11, 2018', '1.0.19', '4.0 and up']\n",
      "\n",
      "\n"
     ]
    }
   ],
   "source": [
    "print('Length of Header: ')\n",
    "print(len(android_header))\n",
    "print(android_header)\n",
    "\n",
    "print('\\nLength of row 10472: ')\n",
    "print(len(android[10472]))\n",
    "print(android[10472])\n",
    "\n",
    "print(\"\\nRows with Missing Data Points Testing Purposes\")\n",
    "for each_row in android:\n",
    "    length = len(each_row)\n",
    "    if length < len(android_header):\n",
    "        print(each_row)\n",
    "        print('\\n')\n"
   ]
  },
  {
   "cell_type": "markdown",
   "id": "3712ea83",
   "metadata": {},
   "source": [
    "- Check if Apple Play store has any missing Data\n",
    "- There are no data points missing from the Apple Data Table"
   ]
  },
  {
   "cell_type": "code",
   "execution_count": 5,
   "id": "c749c919",
   "metadata": {},
   "outputs": [
    {
     "name": "stdout",
     "output_type": "stream",
     "text": [
      "Length of Header: \n",
      "17\n",
      "['', 'id', 'track_name', 'size_bytes', 'currency', 'price', 'rating_count_tot', 'rating_count_ver', 'user_rating', 'user_rating_ver', 'ver', 'cont_rating', 'prime_genre', 'sup_devices.num', 'ipadSc_urls.num', 'lang.num', 'vpp_lic']\n",
      "\n",
      "Rows with Missing Data Points Testing Purposes\n"
     ]
    }
   ],
   "source": [
    "print('Length of Header: ')\n",
    "print(len(IOS_header))\n",
    "print(IOS_header)\n",
    "\n",
    "print(\"\\nRows with Missing Data Points Testing Purposes\")\n",
    "for each_row in IOS:\n",
    "    length = len(each_row[0:])\n",
    "    if length < len(IOS_header):\n",
    "        print(each_row)\n",
    "        print('\\n')"
   ]
  },
  {
   "cell_type": "markdown",
   "id": "994ba5b4",
   "metadata": {},
   "source": [
    "# Confirming Deleted row\n",
    "- Only run delete statement once, or risk deleting extra rows that should not be deleted!"
   ]
  },
  {
   "cell_type": "code",
   "execution_count": 6,
   "id": "318251da",
   "metadata": {
    "scrolled": true
   },
   "outputs": [
    {
     "name": "stdout",
     "output_type": "stream",
     "text": [
      "10841\n",
      "10840\n"
     ]
    }
   ],
   "source": [
    "print(len(android)) #Number of rows before deletion\n",
    "del android[10472] #Deleted row\n",
    "print(len(android)) #current number of rows after deletion"
   ]
  },
  {
   "cell_type": "markdown",
   "id": "e044d14f",
   "metadata": {},
   "source": [
    "# Removing Duplicate Records\n",
    "   # Part One\n",
    "- In the Google Play Store, there are duplicates that need to be deleted.\n",
    "- Below is a sample of a few duplicate rows in our data set\n",
    "- We filter all duplicates by the `Category` Column\n",
    "\n",
    "-Below in the Google play store data set sample, we are searching each row based on column `Category`, while searching for each data point that has `Instagram` as the value.\n",
    "\n",
    "-There are four records that are duplicates of the Category Instagram value."
   ]
  },
  {
   "cell_type": "code",
   "execution_count": 7,
   "id": "24f7de07",
   "metadata": {},
   "outputs": [
    {
     "name": "stdout",
     "output_type": "stream",
     "text": [
      "\n",
      " ['Instagram', 'SOCIAL', '4.5', '66577313', 'Varies with device', '1,000,000,000+', 'Free', '0', 'Teen', 'Social', 'July 31, 2018', 'Varies with device', 'Varies with device']\n",
      "\n",
      " ['Instagram', 'SOCIAL', '4.5', '66577446', 'Varies with device', '1,000,000,000+', 'Free', '0', 'Teen', 'Social', 'July 31, 2018', 'Varies with device', 'Varies with device']\n",
      "\n",
      " ['Instagram', 'SOCIAL', '4.5', '66577313', 'Varies with device', '1,000,000,000+', 'Free', '0', 'Teen', 'Social', 'July 31, 2018', 'Varies with device', 'Varies with device']\n",
      "\n",
      " ['Instagram', 'SOCIAL', '4.5', '66509917', 'Varies with device', '1,000,000,000+', 'Free', '0', 'Teen', 'Social', 'July 31, 2018', 'Varies with device', 'Varies with device']\n"
     ]
    }
   ],
   "source": [
    "for app in android:\n",
    "    name = app[0]\n",
    "    if name == 'Instagram':\n",
    "        print('\\n',app)"
   ]
  },
  {
   "cell_type": "markdown",
   "id": "23c0b9e1",
   "metadata": {},
   "source": [
    "We create a small script to find all names of duplicated data and append them to a created duplicated list `duplicate_apps`.\n",
    "\n",
    "All unique apps names will be filtered towards the `unique_apps` list."
   ]
  },
  {
   "cell_type": "code",
   "execution_count": 8,
   "id": "2eadd8a1",
   "metadata": {},
   "outputs": [
    {
     "name": "stdout",
     "output_type": "stream",
     "text": [
      "Number of duplicate apps: 1181\n",
      "\n",
      "\n",
      "Number of unique apps: 9659\n",
      "\n",
      "\n",
      "Examples of duplicaye apps: ['Quick PDF Scanner + OCR FREE', 'Box', 'Google My Business', 'ZOOM Cloud Meetings', 'join.me - Simple Meetings', 'Box']\n"
     ]
    }
   ],
   "source": [
    "duplicate_apps = []\n",
    "unique_apps = []\n",
    "for app in android:\n",
    "    name = app[0]\n",
    "    if name in unique_apps:\n",
    "        duplicate_apps.append(name)\n",
    "    else:\n",
    "        unique_apps.append(name)\n",
    "print('Number of duplicate apps:', len(duplicate_apps))\n",
    "print('\\n')\n",
    "print('Number of unique apps:', len(unique_apps[0:]))\n",
    "print('\\n')\n",
    "print('Examples of duplicaye apps:', duplicate_apps[0:6])"
   ]
  },
  {
   "cell_type": "code",
   "execution_count": 9,
   "id": "b1851995",
   "metadata": {},
   "outputs": [
    {
     "name": "stdout",
     "output_type": "stream",
     "text": [
      "Expected length: 9659\n"
     ]
    }
   ],
   "source": [
    "print('Expected length:', len(android)-1181)"
   ]
  },
  {
   "cell_type": "markdown",
   "id": "4923c551",
   "metadata": {},
   "source": [
    "Check if IOS apps have any duplicates"
   ]
  },
  {
   "cell_type": "code",
   "execution_count": 10,
   "id": "ec902686",
   "metadata": {
    "scrolled": true
   },
   "outputs": [
    {
     "name": "stdout",
     "output_type": "stream",
     "text": [
      "Number of duplicate apps: 0\n",
      "\n",
      "\n",
      "Number of unique apps: 7197\n"
     ]
    }
   ],
   "source": [
    "duplicate_apps = []\n",
    "ios_unique_apps = []\n",
    "for app in IOS:\n",
    "    name = app[0]\n",
    "    if name in ios_unique_apps:\n",
    "        duplicate_apps.append(name)\n",
    "    else:\n",
    "        ios_unique_apps.append(name)\n",
    "print('Number of duplicate apps:', len(duplicate_apps))\n",
    "print('\\n')\n",
    "print('Number of unique apps:', len(ios_unique_apps[0:]))"
   ]
  },
  {
   "cell_type": "markdown",
   "id": "39a4e581",
   "metadata": {},
   "source": [
    "# Removing Duplicate Records \n",
    "# Part Two"
   ]
  },
  {
   "cell_type": "markdown",
   "id": "17b03150",
   "metadata": {},
   "source": [
    "Duplication Criteria\n",
    "- After examining the rows, the fourth column `Reviews` has varied results for number of reviews which is the only difference in our duplicates who have the same information in every other column. \n",
    "- We will only keep the hightest number of reviews and remove the other entries for any given app in order to keep one entry."
   ]
  },
  {
   "cell_type": "markdown",
   "id": "f2ad5a03",
   "metadata": {},
   "source": [
    "Remember in our early analysis we noticed App 'Instagram' had a few entries with the same data except for the `Reviews` column. Now we will filter every single App with different review amounts to gain one entry per app."
   ]
  },
  {
   "attachments": {
    "instagram_dupli.PNG": {
     "image/png": "[encoded data removed]"
    }
   },
   "cell_type": "markdown",
   "id": "0b97060f",
   "metadata": {},
   "source": [
    "![instagram_dupli.PNG](attachment:instagram_dupli.PNG)"
   ]
  },
  {
   "cell_type": "code",
   "execution_count": 11,
   "id": "0da7a867",
   "metadata": {
    "scrolled": true
   },
   "outputs": [],
   "source": [
    "reviews_max = {}\n",
    "\n",
    "for each_row in android:\n",
    "    name = each_row[0]\n",
    "    n_reviews = float(each_row[3])\n",
    "    \n",
    "    if name in reviews_max and reviews_max[name] < n_reviews:\n",
    "        reviews_max[name] = n_reviews\n",
    "    elif name not in reviews_max:\n",
    "        reviews_max[name] = n_reviews    "
   ]
  },
  {
   "cell_type": "code",
   "execution_count": 12,
   "id": "0d5c2693",
   "metadata": {},
   "outputs": [
    {
     "name": "stdout",
     "output_type": "stream",
     "text": [
      "Expected length: 9659\n",
      "Actual length: 9659\n"
     ]
    }
   ],
   "source": [
    "\n",
    "print('Expected length:', len(android) - 1181)\n",
    "print('Actual length:', len(reviews_max))"
   ]
  },
  {
   "cell_type": "markdown",
   "id": "5cbadc65",
   "metadata": {},
   "source": [
    "Now we must test our `Android dataset` to make sure we removed all the `duplicate rows` from our Android dataset. \n",
    "\n",
    "-Creating additional lists to remove duplicates.\n",
    "`android_clean` list will house only one entry with the highest amount of reviews for each app.\n",
    "`already_added` will house all duplicate rows."
   ]
  },
  {
   "cell_type": "code",
   "execution_count": 13,
   "id": "08d45cb8",
   "metadata": {
    "scrolled": true
   },
   "outputs": [
    {
     "name": "stdout",
     "output_type": "stream",
     "text": [
      "Number of Single entry Apps\n",
      "9659\n"
     ]
    }
   ],
   "source": [
    "android_clean = [] #will store our new cleaned data set\n",
    "already_added = [] #store app names\n",
    "\n",
    "for each_row in android:\n",
    "    name = each_row[0]\n",
    "    n_reviews = float(each_row[3])\n",
    "\n",
    "    if reviews_max[name] == n_reviews and name not in already_added:\n",
    "        android_clean.append(each_row)\n",
    "        already_added.append(name)    \n",
    "print('Number of Single entry Apps')        \n",
    "print(len(android_clean))"
   ]
  },
  {
   "cell_type": "markdown",
   "id": "00119756",
   "metadata": {},
   "source": [
    "Explore the new data set, and confirm that the number of rows is 9,659 by passing our new List of rows(list os lists) `android_clean` to our `explore_data` function to confirm the total number of rows and columns after we removed all the duplicate data."
   ]
  },
  {
   "cell_type": "code",
   "execution_count": 14,
   "id": "8ff5caf0",
   "metadata": {},
   "outputs": [
    {
     "name": "stdout",
     "output_type": "stream",
     "text": [
      "['Photo Editor & Candy Camera & Grid & ScrapBook', 'ART_AND_DESIGN', '4.1', '159', '19M', '10,000+', 'Free', '0', 'Everyone', 'Art & Design', 'January 7, 2018', '1.0.0', '4.0.3 and up']\n",
      "\n",
      "\n",
      "['U Launcher Lite – FREE Live Cool Themes, Hide Apps', 'ART_AND_DESIGN', '4.7', '87510', '8.7M', '5,000,000+', 'Free', '0', 'Everyone', 'Art & Design', 'August 1, 2018', '1.2.4', '4.0.3 and up']\n",
      "\n",
      "\n",
      "['Sketch - Draw & Paint', 'ART_AND_DESIGN', '4.5', '215644', '25M', '50,000,000+', 'Free', '0', 'Teen', 'Art & Design', 'June 8, 2018', 'Varies with device', '4.2 and up']\n",
      "\n",
      "\n",
      "Number of rows: 9659\n",
      "Number of columns: 13\n"
     ]
    }
   ],
   "source": [
    "explore_data(android_clean, 0, 3, True)"
   ]
  },
  {
   "cell_type": "markdown",
   "id": "0d085330",
   "metadata": {},
   "source": [
    "# Removing non-English Apps\n",
    "# Part One\n",
    "- Now we want to delete apps that are non-english apps, as we explore both data sets abit more we notice a few.\n",
    "- Our audience is mostly english speaking, so to filter our data more, its best to remove these apps."
   ]
  },
  {
   "cell_type": "code",
   "execution_count": 15,
   "id": "51f5cf3e",
   "metadata": {
    "scrolled": true
   },
   "outputs": [
    {
     "name": "stdout",
     "output_type": "stream",
     "text": [
      "万年历-值得信赖的日历黄历查询工具\n",
      "腾讯手机管家-拦截骚扰电话的QQ安全助手\n",
      "\n",
      "\n",
      "中国語 AQリスニング\n",
      "لعبة تقدر تربح DZ\n"
     ]
    }
   ],
   "source": [
    "print(IOS[706][2]) # 2 LESS than in exel\n",
    "print(IOS[826][2])\n",
    "print('\\n')\n",
    "print(android_clean[4412][0])\n",
    "print(android_clean[7940][0])"
   ]
  },
  {
   "cell_type": "markdown",
   "id": "8c66da3e",
   "metadata": {},
   "source": [
    "Using the ASCII(AMERICAN Standard Code for Information Interchance), we can determine numbers corresponding to the characters we commonly use in English text that range from 0 -127\n",
    "\n",
    "For example uing the ord() built-in function:"
   ]
  },
  {
   "cell_type": "code",
   "execution_count": 16,
   "id": "fd0695b8",
   "metadata": {
    "scrolled": false
   },
   "outputs": [
    {
     "name": "stdout",
     "output_type": "stream",
     "text": [
      "97\n",
      "65\n",
      "19975\n",
      "53\n",
      "43\n"
     ]
    }
   ],
   "source": [
    "print(ord('a'))\n",
    "print(ord('A'))\n",
    "print(ord('万'))\n",
    "print(ord('5'))\n",
    "print(ord('+'))"
   ]
  },
  {
   "cell_type": "markdown",
   "id": "f9d23edd",
   "metadata": {},
   "source": [
    "If an app name contains characters that is greater than 127, than that probably means the app has a non-English name.\n",
    "So now we must interate through the App names in order to find all the non-English apps.\n",
    "\n",
    "For example:"
   ]
  },
  {
   "cell_type": "code",
   "execution_count": 17,
   "id": "5cc53f5d",
   "metadata": {
    "scrolled": true
   },
   "outputs": [
    {
     "name": "stdout",
     "output_type": "stream",
     "text": [
      "a\n",
      "b\n",
      "c\n",
      "d\n"
     ]
    }
   ],
   "source": [
    "one_string = 'abcd'\n",
    "\n",
    "for each_character in one_string:\n",
    "    print(each_character)"
   ]
  },
  {
   "cell_type": "markdown",
   "id": "571716d6",
   "metadata": {},
   "source": [
    "Now let begin to interate over our App names"
   ]
  },
  {
   "cell_type": "code",
   "execution_count": 18,
   "id": "abd091e4",
   "metadata": {
    "scrolled": true
   },
   "outputs": [
    {
     "name": "stdout",
     "output_type": "stream",
     "text": [
      "True\n",
      "False\n",
      "False\n",
      "False\n"
     ]
    }
   ],
   "source": [
    "def is_English_characters(a_string):\n",
    "    is_ascii = 0\n",
    "    for character in a_string:\n",
    "        ascii_character = ord(character)\n",
    "        if ascii_character > 127:\n",
    "            return False\n",
    "        \n",
    "    return True\n",
    "\n",
    "print(is_English_characters('Instagram'))\n",
    "print(is_English_characters('爱奇艺PPS -《欢乐颂2》电视剧热播'))\n",
    "print(is_English_characters('Docs To Go™ Free Office Suite'))\n",
    "print(is_English_characters('Instachat 😜'))"
   ]
  },
  {
   "cell_type": "markdown",
   "id": "696a7da0",
   "metadata": {},
   "source": [
    "We noticed that the Non-English app names funtion does not recognize emojis 'Instachat 😜' or characters like ™ that fall outside of the ASCII range that are over 127. "
   ]
  },
  {
   "cell_type": "code",
   "execution_count": 19,
   "id": "0985a4e9",
   "metadata": {
    "scrolled": true
   },
   "outputs": [
    {
     "name": "stdout",
     "output_type": "stream",
     "text": [
      "False\n",
      "False\n",
      "128540\n",
      "8482\n"
     ]
    }
   ],
   "source": [
    "print(is_English_characters('Docs To Go™ Free Office Suite'))\n",
    "print(is_English_characters('Instachat 😜'))\n",
    "print(ord('😜'))\n",
    "print(ord('™'))"
   ]
  },
  {
   "cell_type": "markdown",
   "id": "39f7ba3e",
   "metadata": {},
   "source": [
    "To enhance our Non-English function we should add more filter features that will create a counter where all English Apps up to three special characters will be labeled as English"
   ]
  },
  {
   "cell_type": "markdown",
   "id": "e670c67a",
   "metadata": {},
   "source": [
    "# PART TWO"
   ]
  },
  {
   "cell_type": "code",
   "execution_count": 20,
   "id": "1c31133a",
   "metadata": {
    "scrolled": true
   },
   "outputs": [
    {
     "name": "stdout",
     "output_type": "stream",
     "text": [
      "True\n",
      "False\n",
      "True\n",
      "True\n"
     ]
    }
   ],
   "source": [
    "def is_English_character(a_string):\n",
    "    counter = 0\n",
    "    \n",
    "    for a_character in a_string:\n",
    "        if ord(a_character) > 127:\n",
    "            counter += 1\n",
    "    if counter <= 3:\n",
    "        return True\n",
    "    else:\n",
    "        return False\n",
    "\n",
    "print(is_English_character('Instagram'))\n",
    "print(is_English_character('爱奇艺PPS -《欢乐颂2》电视剧热播'))\n",
    "print(is_English_character('Docs To Go™ Free Office Suite'))\n",
    "print(is_English_character('Instachat 😜'))\n"
   ]
  },
  {
   "cell_type": "markdown",
   "id": "e1189b22",
   "metadata": {},
   "source": [
    "We create two seperate lists for our Android data set and Apple data set that will contain only english apps.\n",
    "\n",
    "- first we'll pass our android_clean and IOS list to `is_English_character` function.\n",
    "\n",
    "- The `ios_english_app` and `android_english_app`.\n",
    "will append all english apps to their lists, then we'll take these new lists and pass it to our `explore_data` function which will confirm and return all the apps that are only english apps."
   ]
  },
  {
   "cell_type": "code",
   "execution_count": 21,
   "id": "72061de2",
   "metadata": {
    "scrolled": false
   },
   "outputs": [
    {
     "name": "stdout",
     "output_type": "stream",
     "text": [
      "['Photo Editor & Candy Camera & Grid & ScrapBook', 'ART_AND_DESIGN', '4.1', '159', '19M', '10,000+', 'Free', '0', 'Everyone', 'Art & Design', 'January 7, 2018', '1.0.0', '4.0.3 and up']\n",
      "\n",
      "\n",
      "['U Launcher Lite – FREE Live Cool Themes, Hide Apps', 'ART_AND_DESIGN', '4.7', '87510', '8.7M', '5,000,000+', 'Free', '0', 'Everyone', 'Art & Design', 'August 1, 2018', '1.2.4', '4.0.3 and up']\n",
      "\n",
      "\n",
      "['Sketch - Draw & Paint', 'ART_AND_DESIGN', '4.5', '215644', '25M', '50,000,000+', 'Free', '0', 'Teen', 'Art & Design', 'June 8, 2018', 'Varies with device', '4.2 and up']\n",
      "\n",
      "\n",
      "Number of rows: 9614\n",
      "Number of columns: 13\n",
      "\n",
      "\n",
      "['1', '281656475', 'PAC-MAN Premium', '100788224', 'USD', '3.99', '21292', '26', '4', '4.5', '6.3.5', '4+', 'Games', '38', '5', '10', '1']\n",
      "\n",
      "\n",
      "['2', '281796108', 'Evernote - stay organized', '158578688', 'USD', '0', '161065', '26', '4', '3.5', '8.2.2', '4+', 'Productivity', '37', '5', '23', '1']\n",
      "\n",
      "\n",
      "['3', '281940292', 'WeatherBug - Local Weather, Radar, Maps, Alerts', '100524032', 'USD', '0', '188583', '2822', '3.5', '4.5', '5.0.0', '4+', 'Weather', '37', '5', '3', '1']\n",
      "\n",
      "\n",
      "Number of rows: 6183\n",
      "Number of columns: 17\n"
     ]
    }
   ],
   "source": [
    "ios_english_app = []\n",
    "android_english_app = []\n",
    "\n",
    "for each_app in android_clean:\n",
    "    name = each_app[0]\n",
    "    if is_English_character(name):\n",
    "        android_english_app.append(each_app)\n",
    "\n",
    "for each_app in IOS:\n",
    "    name = each_app[2]\n",
    "    if is_English_character(name):\n",
    "        ios_english_app.append(each_app)\n",
    "\n",
    "explore_data(android_english_app, 0, 3, True)\n",
    "print('\\n')\n",
    "explore_data(ios_english_app, 0, 3, True)"
   ]
  },
  {
   "cell_type": "markdown",
   "id": "0dd2ec5e",
   "metadata": {},
   "source": [
    "# Data Cleaning Process\n",
    "Objective: We only build apps that are free to download and install, and our main source of revenue consists of in-app ads. Our datasets contain both free and non-free apps.\n",
    "\n",
    "So far in the data cleaning process:\n",
    "- Removed inaccurate data\n",
    "- Removed duplicate app entries\n",
    "- Removed non-Enlgish apps\n",
    "\n",
    "Data Cleaning process left to do:\n",
    " Our datasets contain both free and non-free apps.\n",
    "- Isolate only free apps for our data analysis"
   ]
  },
  {
   "cell_type": "markdown",
   "id": "b2b221ff",
   "metadata": {},
   "source": [
    "# Isolating Free Apps\n",
    "- Creating two seperate lists called `android_final_apps` and `ios_final_apps` will house only the apps that are free in the `price` column. \n",
    "\n",
    "- We check each app in the `android-english-app` list and the `ios_english_apps list` to filter apps by `price` criteria.\n"
   ]
  },
  {
   "cell_type": "code",
   "execution_count": 22,
   "id": "d65b14ab",
   "metadata": {},
   "outputs": [],
   "source": [
    "android_final_apps = []\n",
    "ios_final_apps = []\n",
    "\n",
    "for each_app in android_english_app:\n",
    "    price = each_app[7]\n",
    "    if price == '0':\n",
    "        android_final_apps.append(each_app)\n",
    "            \n",
    "for each_app in ios_english_app:\n",
    "    price = each_app[5]\n",
    "    if price == '0':\n",
    "        ios_final_apps.append(each_app)\n",
    "                \n"
   ]
  },
  {
   "cell_type": "code",
   "execution_count": 23,
   "id": "4b9ab414",
   "metadata": {
    "scrolled": false
   },
   "outputs": [
    {
     "name": "stdout",
     "output_type": "stream",
     "text": [
      "Android Free Apps \n",
      "\n",
      "8864\n",
      "\n",
      "\n",
      "IOS Free Apps \n",
      "\n",
      "3222\n"
     ]
    }
   ],
   "source": [
    "print('Android Free Apps \\n')\n",
    "print(len(android_final_apps))\n",
    "print('\\n')\n",
    "print('IOS Free Apps \\n')\n",
    "print(len(ios_final_apps))"
   ]
  },
  {
   "cell_type": "markdown",
   "id": "51a97db7",
   "metadata": {},
   "source": [
    "## Test How many Free apps Remain"
   ]
  },
  {
   "cell_type": "code",
   "execution_count": 24,
   "id": "83e0ec8f",
   "metadata": {},
   "outputs": [
    {
     "name": "stdout",
     "output_type": "stream",
     "text": [
      "\n",
      "Android free Apps \n",
      "\n",
      "['Photo Editor & Candy Camera & Grid & ScrapBook', 'ART_AND_DESIGN', '4.1', '159', '19M', '10,000+', 'Free', '0', 'Everyone', 'Art & Design', 'January 7, 2018', '1.0.0', '4.0.3 and up']\n",
      "\n",
      "\n",
      "['U Launcher Lite – FREE Live Cool Themes, Hide Apps', 'ART_AND_DESIGN', '4.7', '87510', '8.7M', '5,000,000+', 'Free', '0', 'Everyone', 'Art & Design', 'August 1, 2018', '1.2.4', '4.0.3 and up']\n",
      "\n",
      "\n",
      "['Sketch - Draw & Paint', 'ART_AND_DESIGN', '4.5', '215644', '25M', '50,000,000+', 'Free', '0', 'Teen', 'Art & Design', 'June 8, 2018', 'Varies with device', '4.2 and up']\n",
      "\n",
      "\n",
      "['Pixel Draw - Number Art Coloring Book', 'ART_AND_DESIGN', '4.3', '967', '2.8M', '100,000+', 'Free', '0', 'Everyone', 'Art & Design;Creativity', 'June 20, 2018', '1.1', '4.4 and up']\n",
      "\n",
      "\n",
      "Number of rows: 8864\n",
      "Number of columns: 13\n",
      "\n",
      "IOS free Apps\n",
      "\n",
      "['2', '281796108', 'Evernote - stay organized', '158578688', 'USD', '0', '161065', '26', '4', '3.5', '8.2.2', '4+', 'Productivity', '37', '5', '23', '1']\n",
      "\n",
      "\n",
      "['3', '281940292', 'WeatherBug - Local Weather, Radar, Maps, Alerts', '100524032', 'USD', '0', '188583', '2822', '3.5', '4.5', '5.0.0', '4+', 'Weather', '37', '5', '3', '1']\n",
      "\n",
      "\n",
      "['4', '282614216', 'eBay: Best App to Buy, Sell, Save! Online Shopping', '128512000', 'USD', '0', '262241', '649', '4', '4.5', '5.10.0', '12+', 'Shopping', '37', '5', '9', '1']\n",
      "\n",
      "\n",
      "['5', '282935706', 'Bible', '92774400', 'USD', '0', '985920', '5320', '4.5', '5', '7.5.1', '4+', 'Reference', '37', '5', '45', '1']\n",
      "\n",
      "\n",
      "Number of rows: 3222\n",
      "Number of columns: 17\n"
     ]
    }
   ],
   "source": [
    "print('\\nAndroid free Apps \\n')\n",
    "explore_data(android_final_apps, 0, 4, True)\n",
    "print('\\nIOS free Apps\\n')\n",
    "explore_data(ios_final_apps, 0, 4, True)"
   ]
  },
  {
   "cell_type": "markdown",
   "id": "80053942",
   "metadata": {},
   "source": [
    "# Most Common Apps by Genre: Part One"
   ]
  },
  {
   "cell_type": "markdown",
   "id": "305b5174",
   "metadata": {},
   "source": [
    "As we mentioned in the introduction, our goal is to determine the kinds of apps that are likely to attract more users because the number of people using our apps affect our revenue.\n",
    " Now that we have:\n",
    " - Remove inaccurate data\n",
    " - Remove duplicate app entries\n",
    " - Remove non-English apps\n",
    " - Isolated the free apps\n",
    "\n",
    "To minimize risks and overhead, our validation strategy for an app idea has three steps:\n",
    "\n",
    "- Build a minimal Android version of the app, and add it to Google Play.\n",
    "- If the app has a good response from users, we develop it further.\n",
    "- If the app is profitable after six months, we build an iOS version of the app and add it to the App Store.\n",
    "\n",
    "Because our end goal is to add the app on both Google Play and the App Store, we need to find app profiles that are successful in both markets. \n"
   ]
  },
  {
   "cell_type": "markdown",
   "id": "cb9060e7",
   "metadata": {},
   "source": [
    "# Frequency Tables for IOS and Google Play\n",
    "- `prime_genre` column of the App Store data set.\n",
    "- `Genres and Category` columns of the Google Play data set.\n",
    "\n",
    "We'll build two functions we can use to analyze the frequency tables:\n",
    "\n",
    "- `freq_table` function to generate frequency tables that show percentages.\n",
    "- `display_table` function we can use to display the percentages in a descending order."
   ]
  },
  {
   "cell_type": "code",
   "execution_count": 25,
   "id": "4e42164d",
   "metadata": {},
   "outputs": [],
   "source": [
    "def freq_table(dataset, index):\n",
    "    \n",
    "    freq_per_app = {}\n",
    "    total_apps = 0\n",
    "    \n",
    "    for each_row in dataset:\n",
    "        total_apps += 1\n",
    "        key = each_row[index]\n",
    "        if key in freq_per_app:\n",
    "            freq_per_app[key] += 1\n",
    "        else:\n",
    "            freq_per_app[key] = 1\n",
    "    \n",
    "    freq_porportions = {}\n",
    "    freq_percentage = {}\n",
    "    for each_row in freq_per_app:\n",
    "\n",
    "        r_porportion = freq_per_app[each_row] / total_apps\n",
    "        r_percentage = r_porportion * 100\n",
    "        \n",
    "        # populate porportion dictionary\n",
    "        freq_porportions[each_row] = r_porportion\n",
    "        #populate percentage dictionary\n",
    "        freq_percentage[each_row] = r_percentage\n",
    "    \n",
    "    return freq_percentage\n",
    "    \n",
    "def display_table(dataset, index):\n",
    "    table = freq_table(dataset, index)\n",
    "    table_display = []\n",
    "    for key in table:\n",
    "        key_val_as_tuple = (table[key], key)\n",
    "        table_display.append(key_val_as_tuple)\n",
    "\n",
    "    table_sorted = sorted(table_display, reverse = True)\n",
    "    for entry in table_sorted:\n",
    "        print(entry[1], ':', entry[0])   "
   ]
  },
  {
   "cell_type": "markdown",
   "id": "68421200",
   "metadata": {},
   "source": [
    "# Part Two"
   ]
  },
  {
   "cell_type": "markdown",
   "id": "522a0a4b",
   "metadata": {},
   "source": [
    "We start by examining the frequency table for the prime_genre column of the Apple App Store data set."
   ]
  },
  {
   "cell_type": "code",
   "execution_count": 26,
   "id": "8f748b29",
   "metadata": {
    "scrolled": false
   },
   "outputs": [
    {
     "name": "stdout",
     "output_type": "stream",
     "text": [
      "\n",
      " IOS prime_genre Percentages Table \n",
      "\n",
      "Games : 58.16263190564867\n",
      "Entertainment : 7.883302296710118\n",
      "Photo & Video : 4.9658597144630665\n",
      "Education : 3.662321539416512\n",
      "Social Networking : 3.2898820608317814\n",
      "Shopping : 2.60707635009311\n",
      "Utilities : 2.5139664804469275\n",
      "Sports : 2.1415270018621975\n",
      "Music : 2.0484171322160147\n",
      "Health & Fitness : 2.0173805090006205\n",
      "Productivity : 1.7380509000620732\n",
      "Lifestyle : 1.5828677839851024\n",
      "News : 1.3345747982619491\n",
      "Travel : 1.2414649286157666\n",
      "Finance : 1.1173184357541899\n",
      "Weather : 0.8690254500310366\n",
      "Food & Drink : 0.8069522036002483\n",
      "Reference : 0.5586592178770949\n",
      "Business : 0.5276225946617008\n",
      "Book : 0.4345127250155183\n",
      "Navigation : 0.186219739292365\n",
      "Medical : 0.186219739292365\n",
      "Catalogs : 0.12414649286157665\n"
     ]
    }
   ],
   "source": [
    "print('\\n IOS prime_genre Percentages Table \\n')\n",
    "display_table(ios_final_apps, 12)"
   ]
  },
  {
   "cell_type": "markdown",
   "id": "18efce72",
   "metadata": {},
   "source": [
    "The Top 5 Apple Store App Genre's:\n",
    "- Games : 58.16%\n",
    "- Entertainment : 7.88%\n",
    "- Photo & Video : 4.96%\n",
    "- Education : 3.66%\n",
    "- Social Networking : 3.28%\n",
    "\n",
    "The Bottom 5 Apple Store App Genre's: \n",
    "- Business : 0.5%\n",
    "- Book : 0.4%\n",
    "- Navigation : 0.1%\n",
    "- Medical : 0.1%\n",
    "- Catalogs : 0.1%\n",
    "\n",
    "There are noticable patterns where social, interactive and fun apps are in the Top 5 versus the Bottom 5 that deals more with business and perhaps research related content.\n",
    "\n",
    "Most of the apps are designed for practical purposes (education, shopping, utilities, productivity, lifestyle)\n"
   ]
  },
  {
   "cell_type": "markdown",
   "id": "806c72f3",
   "metadata": {},
   "source": [
    "Now based on the Android frequency table you can say Games would garner more attention based on 58% of the categories are games. So it must be more popular right? Not necessarily, due to most of the games are related to kids. Not everyone have kids or are around kids. We need a app that most people can use or benefit from.\n",
    "\n",
    "I would reccomend an app which can be utilized by any age group, provide fun and relaxation. I would reccomend the `TRAVEL` genre which lays more in the middle of the frequency table. "
   ]
  },
  {
   "cell_type": "code",
   "execution_count": 27,
   "id": "0b2bbd95",
   "metadata": {
    "scrolled": false
   },
   "outputs": [
    {
     "name": "stdout",
     "output_type": "stream",
     "text": [
      "\n",
      " Android Category Percentages Table \n",
      "\n",
      "FAMILY : 18.907942238267147\n",
      "GAME : 9.724729241877256\n",
      "TOOLS : 8.461191335740072\n",
      "BUSINESS : 4.591606498194946\n",
      "LIFESTYLE : 3.9034296028880866\n",
      "PRODUCTIVITY : 3.892148014440433\n",
      "FINANCE : 3.7003610108303246\n",
      "MEDICAL : 3.531137184115524\n",
      "SPORTS : 3.395758122743682\n",
      "PERSONALIZATION : 3.3167870036101084\n",
      "COMMUNICATION : 3.2378158844765346\n",
      "HEALTH_AND_FITNESS : 3.0798736462093865\n",
      "PHOTOGRAPHY : 2.944494584837545\n",
      "NEWS_AND_MAGAZINES : 2.7978339350180503\n",
      "SOCIAL : 2.6624548736462095\n",
      "TRAVEL_AND_LOCAL : 2.33528880866426\n",
      "SHOPPING : 2.2450361010830324\n",
      "BOOKS_AND_REFERENCE : 2.1435018050541514\n",
      "DATING : 1.861462093862816\n",
      "VIDEO_PLAYERS : 1.7937725631768955\n",
      "MAPS_AND_NAVIGATION : 1.3989169675090252\n",
      "FOOD_AND_DRINK : 1.2409747292418771\n",
      "EDUCATION : 1.1620036101083033\n",
      "ENTERTAINMENT : 0.9589350180505415\n",
      "LIBRARIES_AND_DEMO : 0.9363718411552346\n",
      "AUTO_AND_VEHICLES : 0.9250902527075812\n",
      "HOUSE_AND_HOME : 0.8235559566787004\n",
      "WEATHER : 0.8009927797833934\n",
      "EVENTS : 0.7107400722021661\n",
      "PARENTING : 0.6543321299638989\n",
      "ART_AND_DESIGN : 0.6430505415162455\n",
      "COMICS : 0.6204873646209386\n",
      "BEAUTY : 0.5979241877256317\n"
     ]
    }
   ],
   "source": [
    "print('\\n Android Category Percentages Table \\n')\n",
    "display_table(android_final_apps, 1)"
   ]
  },
  {
   "cell_type": "markdown",
   "id": "68a6f5ca",
   "metadata": {},
   "source": [
    "Android Top 5 Category Apps: \n",
    "- FAMILY : 18.90%\n",
    "- GAME : 9.72%\n",
    "- TOOLS : 8.46%\n",
    "- BUSINESS : 4.59%\n",
    "- LIFESTYLE : 3.90%\n",
    "\n",
    "Adroid Bottom 5 Category Apps:\n",
    "- EVENTS : 0.71%\n",
    "- PARENTING : 0.65%\n",
    "- ART_AND_DESIGN : 0.64%\n",
    "- COMICS : 0.62%\n",
    "- BEAUTY : 0.59%\n",
    "\n",
    "A good number of apps are designed for practical purposes (family, tools, business, lifestyle, productivity, etc.). However, if we investigate this further, we can see that the family category (which accounts for almost 19% of the apps) means mostly games for kids.\n",
    "\n",
    "Besides the top and bottom 5 apps based on the frequency table, I would reccomend any app the more centered towards the middle. The following seems like great candidates:\n",
    "TRAVEL_AND_LOCAL \n",
    "SHOPPING \n",
    "BOOKS_AND_REFERENCE \n",
    "DATING \n",
    "VIDEO_PLAYERS \n",
    "MAPS_AND_NAVIGATION"
   ]
  },
  {
   "cell_type": "code",
   "execution_count": 28,
   "id": "0a4435ec",
   "metadata": {
    "scrolled": false
   },
   "outputs": [
    {
     "name": "stdout",
     "output_type": "stream",
     "text": [
      "\n",
      " Android Genres Percentages Table \n",
      "\n",
      "Tools : 8.449909747292418\n",
      "Entertainment : 6.069494584837545\n",
      "Education : 5.347472924187725\n",
      "Business : 4.591606498194946\n",
      "Productivity : 3.892148014440433\n",
      "Lifestyle : 3.892148014440433\n",
      "Finance : 3.7003610108303246\n",
      "Medical : 3.531137184115524\n",
      "Sports : 3.463447653429603\n",
      "Personalization : 3.3167870036101084\n",
      "Communication : 3.2378158844765346\n",
      "Action : 3.1024368231046933\n",
      "Health & Fitness : 3.0798736462093865\n",
      "Photography : 2.944494584837545\n",
      "News & Magazines : 2.7978339350180503\n",
      "Social : 2.6624548736462095\n",
      "Travel & Local : 2.3240072202166067\n",
      "Shopping : 2.2450361010830324\n",
      "Books & Reference : 2.1435018050541514\n",
      "Simulation : 2.0419675090252705\n",
      "Dating : 1.861462093862816\n",
      "Arcade : 1.8501805054151623\n",
      "Video Players & Editors : 1.7712093862815883\n",
      "Casual : 1.7599277978339352\n",
      "Maps & Navigation : 1.3989169675090252\n",
      "Food & Drink : 1.2409747292418771\n",
      "Puzzle : 1.128158844765343\n",
      "Racing : 0.9927797833935018\n",
      "Role Playing : 0.9363718411552346\n",
      "Libraries & Demo : 0.9363718411552346\n",
      "Auto & Vehicles : 0.9250902527075812\n",
      "Strategy : 0.9138086642599278\n",
      "House & Home : 0.8235559566787004\n",
      "Weather : 0.8009927797833934\n",
      "Events : 0.7107400722021661\n",
      "Adventure : 0.6768953068592057\n",
      "Comics : 0.6092057761732852\n",
      "Beauty : 0.5979241877256317\n",
      "Art & Design : 0.5979241877256317\n",
      "Parenting : 0.4963898916967509\n",
      "Card : 0.45126353790613716\n",
      "Casino : 0.42870036101083037\n",
      "Trivia : 0.41741877256317694\n",
      "Educational;Education : 0.39485559566787\n",
      "Board : 0.3835740072202166\n",
      "Educational : 0.3722924187725632\n",
      "Education;Education : 0.33844765342960287\n",
      "Word : 0.2594765342960289\n",
      "Casual;Pretend Play : 0.236913357400722\n",
      "Music : 0.2030685920577617\n",
      "Racing;Action & Adventure : 0.16922382671480143\n",
      "Puzzle;Brain Games : 0.16922382671480143\n",
      "Entertainment;Music & Video : 0.16922382671480143\n",
      "Casual;Brain Games : 0.13537906137184114\n",
      "Casual;Action & Adventure : 0.13537906137184114\n",
      "Arcade;Action & Adventure : 0.12409747292418773\n",
      "Action;Action & Adventure : 0.10153429602888085\n",
      "Educational;Pretend Play : 0.09025270758122744\n",
      "Simulation;Action & Adventure : 0.078971119133574\n",
      "Parenting;Education : 0.078971119133574\n",
      "Entertainment;Brain Games : 0.078971119133574\n",
      "Board;Brain Games : 0.078971119133574\n",
      "Parenting;Music & Video : 0.06768953068592057\n",
      "Educational;Brain Games : 0.06768953068592057\n",
      "Casual;Creativity : 0.06768953068592057\n",
      "Art & Design;Creativity : 0.06768953068592057\n",
      "Education;Pretend Play : 0.056407942238267145\n",
      "Role Playing;Pretend Play : 0.04512635379061372\n",
      "Education;Creativity : 0.04512635379061372\n",
      "Role Playing;Action & Adventure : 0.033844765342960284\n",
      "Puzzle;Action & Adventure : 0.033844765342960284\n",
      "Entertainment;Creativity : 0.033844765342960284\n",
      "Entertainment;Action & Adventure : 0.033844765342960284\n",
      "Educational;Creativity : 0.033844765342960284\n",
      "Educational;Action & Adventure : 0.033844765342960284\n",
      "Education;Music & Video : 0.033844765342960284\n",
      "Education;Brain Games : 0.033844765342960284\n",
      "Education;Action & Adventure : 0.033844765342960284\n",
      "Adventure;Action & Adventure : 0.033844765342960284\n",
      "Video Players & Editors;Music & Video : 0.02256317689530686\n",
      "Sports;Action & Adventure : 0.02256317689530686\n",
      "Simulation;Pretend Play : 0.02256317689530686\n",
      "Puzzle;Creativity : 0.02256317689530686\n",
      "Music;Music & Video : 0.02256317689530686\n",
      "Entertainment;Pretend Play : 0.02256317689530686\n",
      "Casual;Education : 0.02256317689530686\n",
      "Board;Action & Adventure : 0.02256317689530686\n",
      "Video Players & Editors;Creativity : 0.01128158844765343\n",
      "Trivia;Education : 0.01128158844765343\n",
      "Travel & Local;Action & Adventure : 0.01128158844765343\n",
      "Tools;Education : 0.01128158844765343\n",
      "Strategy;Education : 0.01128158844765343\n",
      "Strategy;Creativity : 0.01128158844765343\n",
      "Strategy;Action & Adventure : 0.01128158844765343\n",
      "Simulation;Education : 0.01128158844765343\n",
      "Role Playing;Brain Games : 0.01128158844765343\n",
      "Racing;Pretend Play : 0.01128158844765343\n",
      "Puzzle;Education : 0.01128158844765343\n",
      "Parenting;Brain Games : 0.01128158844765343\n",
      "Music & Audio;Music & Video : 0.01128158844765343\n",
      "Lifestyle;Pretend Play : 0.01128158844765343\n",
      "Lifestyle;Education : 0.01128158844765343\n",
      "Health & Fitness;Education : 0.01128158844765343\n",
      "Health & Fitness;Action & Adventure : 0.01128158844765343\n",
      "Entertainment;Education : 0.01128158844765343\n",
      "Communication;Creativity : 0.01128158844765343\n",
      "Comics;Creativity : 0.01128158844765343\n",
      "Casual;Music & Video : 0.01128158844765343\n",
      "Card;Action & Adventure : 0.01128158844765343\n",
      "Books & Reference;Education : 0.01128158844765343\n",
      "Art & Design;Pretend Play : 0.01128158844765343\n",
      "Art & Design;Action & Adventure : 0.01128158844765343\n",
      "Arcade;Pretend Play : 0.01128158844765343\n",
      "Adventure;Education : 0.01128158844765343\n"
     ]
    }
   ],
   "source": [
    "print('\\n Android Genres Percentages Table \\n')\n",
    "display_table(android_final_apps, 9)"
   ]
  },
  {
   "cell_type": "markdown",
   "id": "ce54cd88",
   "metadata": {},
   "source": [
    "\n",
    "The difference between the Genres and the Category columns is not crystal clear, but one thing we can notice is that the Genres column has more categories. So for now we'll just work with the Category column moving forward.\n",
    "\n",
    "Up to this point, we found that the App Store is dominated by apps designed for fun, while Google Play shows a more balanced landscape of both practical and for-fun apps. Now we'd like to get an idea about the kind of apps that have most users"
   ]
  },
  {
   "cell_type": "markdown",
   "id": "a7271055",
   "metadata": {},
   "source": [
    "# Most Popular Apps by Genre on the Apple Store"
   ]
  },
  {
   "cell_type": "markdown",
   "id": "c843ef58",
   "metadata": {},
   "source": [
    "The frequency tables we analyzed shows us that apps designed for fun dominates the IOS App Store, while google Play shows a more balanced display of both practical and fun apps."
   ]
  },
  {
   "cell_type": "markdown",
   "id": "29bf3eea",
   "metadata": {},
   "source": [
    "One way to get find out the most popular app by genre is to use the user_ratings per genre, which we can find by analyzing the rating_count_tot of the IOS App Store.\n",
    "To achieve this, we'll need to do the following:\n",
    "- Isolate the apps of each genre\n",
    "- Add up all the user ratings for the apps of that genre\n",
    "- Divide the sum by the number of apps belonging to that genre"
   ]
  },
  {
   "cell_type": "code",
   "execution_count": 29,
   "id": "7d9ae042",
   "metadata": {
    "scrolled": false
   },
   "outputs": [
    {
     "name": "stdout",
     "output_type": "stream",
     "text": [
      "Productivity  :  21028.410714285714\n",
      "Weather  :  52279.892857142855\n",
      "Shopping  :  26919.690476190477\n",
      "Reference  :  74942.11111111111\n",
      "Finance  :  31467.944444444445\n",
      "Music  :  57326.530303030304\n",
      "Utilities  :  18684.456790123455\n",
      "Travel  :  28243.8\n",
      "Social Networking  :  71548.34905660378\n",
      "Sports  :  23008.898550724636\n",
      "Health & Fitness  :  23298.015384615384\n",
      "Games  :  22788.6696905016\n",
      "Food & Drink  :  33333.92307692308\n",
      "News  :  21248.023255813954\n",
      "Book  :  39758.5\n",
      "Photo & Video  :  28441.54375\n",
      "Entertainment  :  14029.830708661417\n",
      "Business  :  7491.117647058823\n",
      "Lifestyle  :  16485.764705882353\n",
      "Education  :  7003.983050847458\n",
      "Navigation  :  86090.33333333333\n",
      "Medical  :  612.0\n",
      "Catalogs  :  4004.0\n"
     ]
    }
   ],
   "source": [
    "ios_genre = freq_table(ios_final_apps,12)\n",
    "\n",
    "for each_genre in ios_genre:\n",
    "    total_num_ratings = 0\n",
    "    len_genre = 0\n",
    "    for each_app in ios_final_apps:\n",
    "        genre_app = each_app[12]\n",
    "        if genre_app == each_genre:\n",
    "            n_ratings = float(each_app[6])\n",
    "            len_genre += 1\n",
    "            total_num_ratings += n_ratings\n",
    "    avg_num_usr_rating = total_num_ratings / len_genre\n",
    "    print(each_genre, ' : ' , avg_num_usr_rating)\n",
    "    "
   ]
  },
  {
   "cell_type": "markdown",
   "id": "cadc2d3e",
   "metadata": {},
   "source": [
    "On average, navigation apps have the highest number of user reviews, but this figure is heavily influenced by Waze and Google Maps, which have close to half a million user reviews together:"
   ]
  },
  {
   "cell_type": "code",
   "execution_count": 30,
   "id": "feda5224",
   "metadata": {
    "scrolled": true
   },
   "outputs": [
    {
     "name": "stdout",
     "output_type": "stream",
     "text": [
      "Waze - GPS Navigation, Maps & Real-time Traffic : 345046\n",
      "Geocaching® : 12811\n",
      "ImmobilienScout24: Real Estate Search in Germany : 187\n",
      "Railway Route Search : 5\n",
      "CoPilot GPS – Car Navigation & Offline Maps : 3582\n",
      "Google Maps - Navigation & Transit : 154911\n"
     ]
    }
   ],
   "source": [
    "for app in ios_final_apps:\n",
    "    if app[12] == 'Navigation':\n",
    "        print(app[2], ':', app[6]) # print name and number of ratings"
   ]
  },
  {
   "cell_type": "markdown",
   "id": "d288cd51",
   "metadata": {},
   "source": [
    "On average, news apps have the highest number of user reviews, but this figure is heavily influenced by Reddit Official App: All That's Trending and Viral, ABC News - US & World News + Live Video, CNN: Breaking US & World News, Live Video, and Twitter , which have close to half a million user reviews together:"
   ]
  },
  {
   "cell_type": "code",
   "execution_count": 31,
   "id": "0e4a526f",
   "metadata": {
    "scrolled": false
   },
   "outputs": [
    {
     "name": "stdout",
     "output_type": "stream",
     "text": [
      "ABC News - US & World News + Live Video : 48407\n",
      "HuffPost - News, Politics & Entertainment : 29107\n",
      "20 Minutes.fr - l'actualité en continu : 112\n",
      "Sky News : 118\n",
      "NBC News : 32881\n",
      "BFMTV : l'info en continu : 115\n",
      "CNN: Breaking US & World News, Live Video : 112886\n",
      "Twitter : 354058\n",
      "CBS News - Watch Free Live Breaking News : 11691\n",
      "n-tv Nachrichten : 273\n",
      "franceinfo - l'actualité & les élections en direct : 162\n",
      "The Washington Post Classic : 18572\n",
      "Fox News : 132703\n",
      "WIRED Magazine : 12074\n",
      "Lotto Results - Mega Millions Powerball Lottery : 794\n",
      "MSNBC : 3692\n",
      "Tagesschau : 233\n",
      "The Guardian : 8176\n",
      "SPIEGEL ONLINE - Nachrichten : 299\n",
      "LotteryHUB : 2417\n",
      "USA TODAY : 61724\n",
      "FOCUS Online - Aktuelle Nachrichten : 373\n",
      "Ticket Scanner for Powerball & MegaMillions Pool : 581\n",
      "KATWARN : 0\n",
      "SmartNews - Trending News & Stories : 4645\n",
      "OPM Alert : 172\n",
      "AOL: News, Email, Weather & Video : 5233\n",
      "Smart Channel -New Style of News Reader- : 0\n",
      "Fresco — Be a part of the news : 219\n",
      "WSVN Hurricane Tracker : 40\n",
      "Election Center 2016 : 37\n",
      "JCnews - Anime & Game Culture : 0\n",
      "theSkimm : 1765\n",
      "TopBuzz: Best Viral Videos, GIFs, TV & News : 692\n",
      "Reddit Official App: All That's Trending and Viral : 67560\n",
      "Quartz • News in a whole new way : 1267\n",
      "State Council - Official Chinese government app : 25\n",
      "US Presidential Election 2016 - Polls : 28\n",
      "CNN Politics : 254\n",
      "FeedNews: AI curated social news for productivity : 73\n",
      "News Break - Local & World Breaking News & Radio : 173\n",
      "GE's eddie : 0\n",
      "Clown Spotter - Find Clowns Around You : 34\n"
     ]
    }
   ],
   "source": [
    "for app in ios_final_apps:\n",
    "    if app[12] == 'News':\n",
    "        print(app[2], ':', app[6]) "
   ]
  },
  {
   "cell_type": "markdown",
   "id": "aef98480",
   "metadata": {},
   "source": [
    "# App Profile Recommendation: Apple Store"
   ]
  },
  {
   "cell_type": "markdown",
   "id": "6f90064b",
   "metadata": {},
   "source": [
    "One other App that seems popular is Travel:\n",
    "Alot of the data is spread quite evenly when a user may be focused on the main topics of travel:\n",
    "- Hotels\n",
    "- Restaurants\n",
    "- Transportations\n",
    "- Deals\n",
    "- Location\n",
    "\n",
    "This niche have some decent potential where an app can be created as one-stop shop. Based on location and season, the user can search for quality cheap hotels and transportation. There can be added recommendation based on reviews from customers. This way users don't have to leave the app to search for comments on the business. "
   ]
  },
  {
   "cell_type": "code",
   "execution_count": 32,
   "id": "80f47208",
   "metadata": {
    "scrolled": false
   },
   "outputs": [
    {
     "name": "stdout",
     "output_type": "stream",
     "text": [
      "TripAdvisor Hotels Flights Restaurants : 56194\n",
      "Yelp - Nearby Restaurants, Shopping & Services : 223885\n",
      "Google Earth : 446185\n",
      "Trainline UK: Live Train Times, Tickets & Planner : 248\n",
      "BlaBlaCar - Trusted Carpooling : 397\n",
      "DB Navigator : 512\n",
      "Voyages-sncf.com : book train and bus tickets : 268\n",
      "Southwest Airlines : 30552\n",
      "Hotels & Vacation Rentals by Booking.com : 31261\n",
      "Uber : 49466\n",
      "Fly Delta : 8094\n",
      "Airbnb : 22302\n",
      "iExit Interstate Exit Guide : 1798\n",
      "GasBuddy : 145549\n",
      "HotelTonight - Great Deals on Last Minute Hotels : 32341\n",
      "Expedia Hotels, Flights & Vacation Package Deals : 10278\n",
      "Viator Tours & Activities : 1839\n",
      "United Airlines : 5748\n",
      "飞猪 : 154\n",
      "HISTORY Here : 685\n",
      "Ryanair - Cheapest Fares : 175\n",
      "Lyft : 46922\n",
      "铁路12306 : 177\n",
      "Urlaubspiraten : 188\n",
      "VoiceTra(Voice Translator) : 0\n",
      "Ab in den Urlaub – Pauschalreisen günstig buchen : 22\n",
      "Fluege.de - Finde den billigsten Flug : 0\n",
      "MiFlight™ – Airport security line wait times at checkpoints for domestic and international travelers : 493\n",
      "FlixBus - bus travel in Europe : 92\n",
      "Skiplagged — Actually Cheap Flights & Hotels : 1851\n",
      "Webcams – EarthCam : 912\n",
      "Hopper - Predict, Watch & Book Flights : 6944\n",
      "Google Street View : 1450\n",
      "SNCF : 7\n",
      "Fleet Air Travel Guide & Airport Directory : 105\n",
      "Six Flags : 353\n",
      "skyticket - Reserve Best Valued Air Tickets : 0\n",
      "Gogo Entertainment : 1482\n",
      "Mobike - Dockless Bike Share : 494\n",
      "Google Trips – Travel planner : 329\n"
     ]
    }
   ],
   "source": [
    "for app in ios_final_apps:\n",
    "    if app[12] == 'Travel':\n",
    "        print(app[2], ':', app[6]) "
   ]
  },
  {
   "cell_type": "markdown",
   "id": "d2741928",
   "metadata": {},
   "source": [
    "# Most Popular Apps by Genre on Google Play"
   ]
  },
  {
   "cell_type": "code",
   "execution_count": 33,
   "id": "597263ab",
   "metadata": {
    "scrolled": false
   },
   "outputs": [
    {
     "name": "stdout",
     "output_type": "stream",
     "text": [
      "1,000,000+ : 15.726534296028879\n",
      "100,000+ : 11.552346570397113\n",
      "10,000,000+ : 10.548285198555957\n",
      "10,000+ : 10.198555956678701\n",
      "1,000+ : 8.393501805054152\n",
      "100+ : 6.915613718411552\n",
      "5,000,000+ : 6.825361010830325\n",
      "500,000+ : 5.561823104693141\n",
      "50,000+ : 4.7721119133574\n",
      "5,000+ : 4.512635379061372\n",
      "10+ : 3.5424187725631766\n",
      "500+ : 3.2490974729241873\n",
      "50,000,000+ : 2.3014440433213\n",
      "100,000,000+ : 2.1322202166064983\n",
      "50+ : 1.917870036101083\n",
      "5+ : 0.78971119133574\n",
      "1+ : 0.5076714801444043\n",
      "500,000,000+ : 0.2707581227436823\n",
      "1,000,000,000+ : 0.22563176895306858\n",
      "0+ : 0.04512635379061372\n",
      "0 : 0.01128158844765343\n"
     ]
    }
   ],
   "source": [
    "display_table(android_final_apps, 5) # number of google play installs"
   ]
  },
  {
   "cell_type": "markdown",
   "id": "a81bc259",
   "metadata": {},
   "source": [
    "Calculating the average number of installs per app genre for google Play dataset will provide us with a visual to see which app genre attract the most users."
   ]
  },
  {
   "cell_type": "code",
   "execution_count": 34,
   "id": "8dd192cd",
   "metadata": {
    "scrolled": false
   },
   "outputs": [
    {
     "name": "stdout",
     "output_type": "stream",
     "text": [
      "ART_AND_DESIGN : 1986335.0877192982\n",
      "AUTO_AND_VEHICLES : 647317.8170731707\n",
      "BEAUTY : 513151.88679245283\n",
      "BOOKS_AND_REFERENCE : 8767811.894736841\n",
      "BUSINESS : 1712290.1474201474\n",
      "COMICS : 817657.2727272727\n",
      "COMMUNICATION : 38456119.167247385\n",
      "DATING : 854028.8303030303\n",
      "EDUCATION : 1833495.145631068\n",
      "ENTERTAINMENT : 11640705.88235294\n",
      "EVENTS : 253542.22222222222\n",
      "FINANCE : 1387692.475609756\n",
      "FOOD_AND_DRINK : 1924897.7363636363\n",
      "HEALTH_AND_FITNESS : 4188821.9853479853\n",
      "HOUSE_AND_HOME : 1331540.5616438356\n",
      "LIBRARIES_AND_DEMO : 638503.734939759\n",
      "LIFESTYLE : 1437816.2687861272\n",
      "GAME : 15588015.603248259\n",
      "FAMILY : 3695641.8198090694\n",
      "MEDICAL : 120550.61980830671\n",
      "SOCIAL : 23253652.127118643\n",
      "SHOPPING : 7036877.311557789\n",
      "PHOTOGRAPHY : 17840110.40229885\n",
      "SPORTS : 3638640.1428571427\n",
      "TRAVEL_AND_LOCAL : 13984077.710144928\n",
      "TOOLS : 10801391.298666667\n",
      "PERSONALIZATION : 5201482.6122448975\n",
      "PRODUCTIVITY : 16787331.344927534\n",
      "PARENTING : 542603.6206896552\n",
      "WEATHER : 5074486.197183099\n",
      "VIDEO_PLAYERS : 24727872.452830188\n",
      "NEWS_AND_MAGAZINES : 9549178.467741935\n",
      "MAPS_AND_NAVIGATION : 4056941.7741935486\n"
     ]
    }
   ],
   "source": [
    "category_freq = freq_table(android_final_apps, 1 )\n",
    "\n",
    "for each_category in category_freq:\n",
    "    total = 0 #store the sum of installs specific to genre\n",
    "    len_category = 0 # store number of apps specific to each app\n",
    "    for each_app in android_final_apps:\n",
    "        category_app = each_app[1]\n",
    "        if category_app == each_category:\n",
    "            n_installs = each_app[5]\n",
    "            n_installs = n_installs.replace('+','')\n",
    "            n_installs = n_installs.replace(',','')\n",
    "            total += float(n_installs)\n",
    "            len_category += 1\n",
    "            \n",
    "    avg_num_installs = total / len_category \n",
    "    print(each_category, \":\", avg_num_installs)\n",
    "            \n",
    "        "
   ]
  },
  {
   "cell_type": "markdown",
   "id": "41379af1",
   "metadata": {},
   "source": [
    "`Video_Players` has 24,727,872 installs, which I did predict may be a great app to pay attention to, but let's run the numbers first."
   ]
  },
  {
   "cell_type": "code",
   "execution_count": 35,
   "id": "cb0011a9",
   "metadata": {
    "scrolled": false
   },
   "outputs": [
    {
     "name": "stdout",
     "output_type": "stream",
     "text": [
      "YouTube : 1,000,000,000+\n",
      "All Video Downloader 2018 : 1,000,000+\n",
      "Video Downloader : 10,000,000+\n",
      "HD Video Player : 1,000,000+\n",
      "Iqiyi (for tablet) : 1,000,000+\n",
      "Video Player All Format : 10,000,000+\n",
      "Motorola Gallery : 100,000,000+\n",
      "Free TV series : 100,000+\n",
      "Video Player All Format for Android : 500,000+\n",
      "VLC for Android : 100,000,000+\n",
      "Code : 10,000,000+\n",
      "Vote for : 50,000,000+\n",
      "XX HD Video downloader-Free Video Downloader : 1,000,000+\n",
      "OBJECTIVE : 1,000,000+\n",
      "Music - Mp3 Player : 10,000,000+\n",
      "HD Movie Video Player : 1,000,000+\n",
      "YouCut - Video Editor & Video Maker, No Watermark : 5,000,000+\n",
      "Video Editor,Crop Video,Movie Video,Music,Effects : 1,000,000+\n",
      "YouTube Studio : 10,000,000+\n",
      "video player for android : 10,000,000+\n",
      "Vigo Video : 50,000,000+\n",
      "Google Play Movies & TV : 1,000,000,000+\n",
      "HTC Service － DLNA : 10,000,000+\n",
      "VPlayer : 1,000,000+\n",
      "MiniMovie - Free Video and Slideshow Editor : 50,000,000+\n",
      "Samsung Video Library : 50,000,000+\n",
      "OnePlus Gallery : 1,000,000+\n",
      "LIKE – Magic Video Maker & Community : 50,000,000+\n",
      "HTC Service—Video Player : 5,000,000+\n",
      "Play Tube : 1,000,000+\n",
      "Droid Zap by Motorola : 5,000,000+\n",
      "video player : 1,000,000+\n",
      "G Guide Program Guide (SOFTBANK EMOBILE WILLCOM version) : 1,000,000+\n",
      "Video.Guru - Video Maker : 1,000,000+\n",
      "HTC Gallery : 10,000,000+\n",
      "PowerDirector Video Editor App: 4K, Slow Mo & More : 10,000,000+\n",
      "Cartoon Network App : 10,000,000+\n",
      "Video Status : 1,000,000+\n",
      "Video Wallpaper Show : 500+\n",
      "SVT Play : 1,000,000+\n",
      "BluTV : 1,000,000+\n",
      "Tencent Video - Supporting the whole network : 1,000,000+\n",
      "Casper Ssinema : 10,000+\n",
      "amazer - Global Kpop Video Community : 100,000+\n",
      "MX Player : 500,000,000+\n",
      "Video Editor : 5,000,000+\n",
      "Omlet Arcade - Stream, Meet, Play : 10,000,000+\n",
      "VUE: video editor & camcorder : 1,000,000+\n",
      "Magisto Video Editor & Maker : 10,000,000+\n",
      "Dubsmash : 100,000,000+\n",
      "DU Recorder – Screen Recorder, Video Editor, Live : 50,000,000+\n",
      "KineMaster – Pro Video Editor : 50,000,000+\n",
      "Mobizen Screen Recorder for SAMSUNG : 10,000,000+\n",
      "Mobizen Screen Recorder for LG - Record, Capture : 1,000,000+\n",
      "M-Sight Pro : 5,000+\n",
      "Sketch 'n' go : 100,000+\n",
      "Q-See Plus : 5,000+\n",
      "Ustream : 10,000,000+\n",
      "VMate : 50,000,000+\n",
      "All Video Downloader : 10,000,000+\n",
      "VidPlay : 1,000,000+\n",
      "HD Video Downloader : 2018 Best video mate : 50,000,000+\n",
      "VivaVideo - Video Editor & Photo Movie : 100,000,000+\n",
      "VideoShow-Video Editor, Video Maker, Beauty Camera : 100,000,000+\n",
      "W Box VMS : 10,000+\n",
      "W Box VMS HD : 5,000+\n",
      "AB Repeat Player : 100,000+\n",
      "A-B repeater : 5,000+\n",
      "Ez Screen Recorder (no ad) : 100,000+\n",
      "Adobe Premiere Clip : 5,000,000+\n",
      "FilmoraGo - Free Video Editor : 10,000,000+\n",
      "ActionDirector Video Editor - Edit Videos Fast : 5,000,000+\n",
      "AJ Player : 100+\n",
      "AK Lodi Films : 100+\n",
      "WiFi Baby Monitor - NannyCam : 5,000,000+\n",
      "Ringdroid : 50,000,000+\n",
      "Multiple Videos at Same Time : 1,000,000+\n",
      "AV-IPTV : 1,000+\n",
      "HD Video Player (wmv,avi,mp4,flv,av,mpg,mkv)2017 : 10,000+\n",
      "HD Video Player - Video & MP3 Player | AV Player | : 5,000+\n",
      "EML UPnP-AV Control Point : 10,000+\n",
      "AW Screen Recorder No Root : 100,000+\n",
      "AX Player -Nougat Video Player : 1,000,000+\n",
      "AX Video Player : 50,000+\n",
      "Ay : 5,000+\n",
      "Ay Sabz Gunbad Waly : 1,000+\n",
      "iMediaShare – Photos & Music : 10,000,000+\n",
      "AZ Screen Recorder - No Root : 10,000,000+\n",
      "Movie Downloader Torrent : Az Torrent : 1,000+\n",
      "A-Z Screen Recorder - : 500+\n",
      "BC iptv player : 1,000+\n",
      "Bc Vod : 100+\n",
      "Funny videos for whatsapp : 1,000,000+\n",
      "BG video - floating video - background video : 5,000+\n",
      "BG MUSIC PLAYER - MUSIC PLAYER : 100+\n",
      "bgtime.tv : 50,000+\n",
      "YourTube Video Views BG : 500+\n",
      "Music for Youtube - Tube Music BG, Red+ : 1,000+\n",
      "BGCN TV : 100,000+\n",
      "AfreecaTV : 10,000,000+\n",
      "BK News Channel : 10,000+\n",
      "BR Video Player : 5,000+\n",
      "BR Series : 50,000+\n",
      "CINE BR : 1,000+\n",
      "iPlayIT for YouTube VR Player : 1,000,000+\n",
      "BSPlayer FREE : 10,000,000+\n",
      "BSPlayer ARMv7 VFP CPU support : 1,000,000+\n",
      "BS player remote : 10,000+\n",
      "BitTorrent®- Torrent Downloads : 10,000,000+\n",
      "Bx-WiFi-GI : 100+\n",
      "BZ Langenthaler Tagblatt : 1,000+\n",
      "Nero AirBurn : 100,000+\n",
      "CI Stream : 10+\n",
      "CJ Camcorder : 500+\n",
      "CJ VLC HD Remote (+ Stream) : 500,000+\n",
      "ACTIVEON CX & CX GOLD : 50,000+\n",
      "CX Monthly Tech News : 500+\n",
      "DG UPnP Player Free : 10,000+\n",
      "DG Screen Recorder : 500+\n",
      "DG Video Editor : 10,000+\n",
      "Video Downloader - for Instagram Repost App : 10,000,000+\n",
      "Quik – Free Video Editor for photos, clips, music : 10,000,000+\n",
      "FrostWire: Torrent Downloader & Music Player : 10,000,000+\n",
      "Inst Download - Video & Photo : 10,000,000+\n",
      "Vuze Torrent Downloader : 1,000,000+\n",
      "AndStream - Streaming Download : 1,000,000+\n",
      "DR TV : 500,000+\n",
      "DS photo : 1,000,000+\n",
      "DS video : 1,000,000+\n",
      "DU Privacy-hide apps、sms、file : 1,000,000+\n",
      "iSmart DV : 1,000,000+\n",
      "dv Prompter : 50,000+\n",
      "DV Lottery Photo : 5,000+\n",
      "MelifeCam-M : 10,000+\n",
      "GoPlus Cam : 500,000+\n",
      "GoAction : 100,000+\n",
      "4K VIDEO PLAYER ULTRA HD : 5,000+\n",
      "Downvids Helper - One touch DW : 10,000+\n",
      "DZ Popup Video Player : 5,000+\n",
      "EC MANAGER : 100+\n",
      "EF Sidekick : 5,000+\n",
      "ek tuhi : 10,000+\n",
      "Naruto Shippuden - Watch Free! : 10,000,000+\n",
      "ES Audio Player ( Shortcut ) : 100,000+\n",
      "Furrion ES Control : 5,000+\n",
      "ES-IPTV : 50,000+\n",
      "EZCast – Cast Media to TV : 1,000,000+\n",
      "EZ Web Video Cast | Chromecast : 100,000+\n",
      "EZ-SEE : 10,000+\n",
      "EZ TV Player : 10,000+\n",
      "EZ Usenet for Easynews® : 10,000+\n",
      "EZ game screen recorder with audio 1080P : 1,000+\n",
      "Videos downloader for Facebook:fast fb video saver : 5,000+\n",
      "Video Downloader for FB : Video Download with Link : 100,000+\n",
      "HD VideoDownlaoder For Fb : XXVideo Downloader : 10,000+\n",
      "HD Video Download for Facebook : 1,000,000+\n",
      "Art of F J Taylor : 10+\n",
      "Motorola FM Radio : 100,000,000+\n",
      "List iptv FR : 100+\n"
     ]
    }
   ],
   "source": [
    "for app in android_final_apps:\n",
    "    if app[1] == 'VIDEO_PLAYERS':\n",
    "        print(app[0], ':', app[5]) # print name and number of ratings"
   ]
  },
  {
   "cell_type": "code",
   "execution_count": 36,
   "id": "9d34f993",
   "metadata": {
    "scrolled": true
   },
   "outputs": [
    {
     "name": "stdout",
     "output_type": "stream",
     "text": [
      "YouTube : 1,000,000,000+\n",
      "Motorola Gallery : 100,000,000+\n",
      "VLC for Android : 100,000,000+\n",
      "Google Play Movies & TV : 1,000,000,000+\n",
      "MX Player : 500,000,000+\n",
      "Dubsmash : 100,000,000+\n",
      "VivaVideo - Video Editor & Photo Movie : 100,000,000+\n",
      "VideoShow-Video Editor, Video Maker, Beauty Camera : 100,000,000+\n",
      "Motorola FM Radio : 100,000,000+\n"
     ]
    }
   ],
   "source": [
    "for app in android_final_apps:\n",
    "    if app[1] == 'VIDEO_PLAYERS' and (app[5] == '1,000,000,000+'\n",
    "                                or app[5] == '500,000,000+'\n",
    "                                or app[5] == '100,000,000+'):\n",
    "        print(app[0], ':', app[5])\n",
    "       "
   ]
  },
  {
   "cell_type": "code",
   "execution_count": 37,
   "id": "972f90cf",
   "metadata": {},
   "outputs": [
    {
     "data": {
      "text/plain": [
       "5544878.133333334"
      ]
     },
     "execution_count": 37,
     "metadata": {},
     "output_type": "execute_result"
    }
   ],
   "source": [
    "under_100_m = []\n",
    "\n",
    "for app in android_final_apps:\n",
    "    n_installs = app[5]\n",
    "    n_installs = n_installs.replace(',', '')\n",
    "    n_installs = n_installs.replace('+', '')\n",
    "    if (app[1] == 'VIDEO_PLAYERS') and (float(n_installs) < 100000000):\n",
    "        under_100_m.append(float(n_installs))\n",
    "        \n",
    "sum(under_100_m) / len(under_100_m)"
   ]
  },
  {
   "cell_type": "markdown",
   "id": "62af37aa",
   "metadata": {},
   "source": [
    "1/5 OF THE APPS make up under 100,000, so that means the majority of the apps (4/5) contain apps that are in the range of 100,000 - 1,000,000,000. Not a good choice."
   ]
  },
  {
   "cell_type": "markdown",
   "id": "fe921f2a",
   "metadata": {},
   "source": [
    "# App Profile Reccommendation: Google Play Store"
   ]
  },
  {
   "cell_type": "markdown",
   "id": "f9e1988e",
   "metadata": {},
   "source": [
    "`TRAVEL_AND_LOCAL` has a total of 13,984,077 installs."
   ]
  },
  {
   "cell_type": "code",
   "execution_count": 38,
   "id": "78f147ce",
   "metadata": {
    "scrolled": false
   },
   "outputs": [
    {
     "name": "stdout",
     "output_type": "stream",
     "text": [
      "trivago: Hotels & Travel : 50,000,000+\n",
      "Hopper - Watch & Book Flights : 5,000,000+\n",
      "TripIt: Travel Organizer : 1,000,000+\n",
      "Trip by Skyscanner - City & Travel Guide : 500,000+\n",
      "CityMaps2Go Plan Trips Travel Guide Offline Maps : 1,000,000+\n",
      "KAYAK Flights, Hotels & Cars : 10,000,000+\n",
      "World Travel Guide by Triposo : 500,000+\n",
      "Booking.com Travel Deals : 100,000,000+\n",
      "Hostelworld: Hostels & Cheap Hotels Travel App : 1,000,000+\n",
      "Google Trips - Travel Planner : 5,000,000+\n",
      "GPS Map Free : 5,000,000+\n",
      "GasBuddy: Find Cheap Gas : 10,000,000+\n",
      "Southwest Airlines : 5,000,000+\n",
      "AT&T Navigator: Maps, Traffic : 10,000,000+\n",
      "VZ Navigator : 50,000,000+\n",
      "KakaoMap - Map / Navigation : 10,000,000+\n",
      "AirAsia : 10,000,000+\n",
      "Expedia Hotels, Flights & Car Rental Travel Deals : 10,000,000+\n",
      "Goibibo - Flight Hotel Bus Car IRCTC Booking App : 10,000,000+\n",
      "Allegiant : 1,000,000+\n",
      "Amtrak : 1,000,000+\n",
      "JAL (Domestic and international flights) : 1,000,000+\n",
      "Flight & Hotel Booking App - ixigo : 5,000,000+\n",
      "VZ Navigator for Tablets : 500,000+\n",
      "TripAdvisor Hotels Flights Restaurants Attractions : 100,000,000+\n",
      "HSL - Tickets, route planner and information : 100,000+\n",
      "Wisepilot for XPERIA™ : 5,000,000+\n",
      "VZ Navigator for Galaxy S4 : 5,000,000+\n",
      "MAIN : 1,000,000+\n",
      "Yoriza Pension - travel, lodging, pension, camping, caravan, pool villas accommodation discount : 1,000,000+\n",
      "Foursquare Swarm: Check In : 10,000,000+\n",
      "PagesJaunes - local search : 10,000,000+\n",
      "Flightradar24 Flight Tracker : 10,000,000+\n",
      "Yatra - Flights, Hotels, Bus, Trains & Cabs : 10,000,000+\n",
      "SNCF : 5,000,000+\n",
      "Fly Delta : 5,000,000+\n",
      "Skyscanner : 10,000,000+\n",
      "Despegar.com Hotels and Flights : 10,000,000+\n",
      "Navigation Plus : 1,000,000+\n",
      "2GIS: directory & navigator : 50,000,000+\n",
      "Poynt : 5,000,000+\n",
      "Gaode Map : 1,000,000+\n",
      "Priceline Hotel Deals, Rental Cars & Flights : 5,000,000+\n",
      "TravelPirates : 1,000,000+\n",
      "Free Radar Detector : 1,000,000+\n",
      "American Airlines : 5,000,000+\n",
      "Where to travel - ticket. hotel. train ticket. car ticket. travel. tickets : 1,000,000+\n",
      "United Airlines : 5,000,000+\n",
      "NTES : 10,000,000+\n",
      "Where is my Train : Indian Railway & PNR Status : 10,000,000+\n",
      "MakeMyTrip-Flight Hotel Bus Cab IRCTC Rail Booking : 10,000,000+\n",
      "Restaurant Finder : 1,000,000+\n",
      "Zagat : 100,000+\n",
      "Gormey: Find Best Restaurants : 1,000+\n",
      "Find Dining Restaurant Finder : 100,000+\n",
      "Urbanspoon Restaurant Reviews : 5,000,000+\n",
      "Yelp: Food, Shopping, Services Nearby : 10,000,000+\n",
      "Qatar Airways : 1,000,000+\n",
      "Hipmunk Hotels & Flights : 1,000,000+\n",
      "Skiplagged — Exclusive Flights & Hotels : 1,000,000+\n",
      "CWT To Go : 100,000+\n",
      "British Airways : 1,000,000+\n",
      "Cheap Flights & Hotels momondo : 5,000,000+\n",
      "CheapTickets – Hotels, Flights & Travel Deals : 1,000,000+\n",
      "JetBlue : 1,000,000+\n",
      "Flights : 1,000,000+\n",
      "Cheapflights – Flight Search : 5,000,000+\n",
      "KLM - Royal Dutch Airlines : 1,000,000+\n",
      "Orbitz - Hotels, Flights & Package Deals : 1,000,000+\n",
      "Lufthansa : 1,000,000+\n",
      "easyJet: Travel App : 10,000,000+\n",
      "IndiGo : 5,000,000+\n",
      "LateRooms: Find Hotel Deals : 1,000,000+\n",
      "Choice Hotels : 1,000,000+\n",
      "Couchsurfing Travel App : 1,000,000+\n",
      "Hotwire Hotel & Car Rental App : 1,000,000+\n",
      "HOTEL DEALS : 100,000+\n",
      "HomeAway Vacation Rentals : 5,000,000+\n",
      "IHG®: Hotel Deals & Rewards : 1,000,000+\n",
      "SPG: Starwood Hotels & Resorts : 1,000,000+\n",
      "Hotels.com: Book Hotel Rooms & Find Vacation Deals : 10,000,000+\n",
      "HotelTonight: Book amazing deals at great hotels : 5,000,000+\n",
      "Airbnb : 10,000,000+\n",
      "Hotels Combined - Cheap deals : 5,000,000+\n",
      "Agoda – Hotel Booking Deals : 10,000,000+\n",
      "Turo - Better Than Car Rental : 1,000,000+\n",
      "Ascape VR: 360° Virtual Travel : 100,000+\n",
      "Cheap hotel deals and discounts — Hotellook : 1,000,000+\n",
      "Maps - Navigate & Explore : 1,000,000,000+\n",
      "GPS Status & Toolbox : 10,000,000+\n",
      "Airport + Flight Tracker Radar : 1,000,000+\n",
      "Scout GPS Navigation & Meet Up : 5,000,000+\n",
      "Street Panorama View : 1,000,000+\n",
      "Geo Tracker - GPS tracker : 1,000,000+\n",
      "DreamTrips : 500,000+\n",
      "Navmii GPS USA (Navfree) : 500,000+\n",
      "Sygic Truck GPS Navigation : 1,000,000+\n",
      "Google Street View : 1,000,000,000+\n",
      "Air Transat CinePlus B : 50,000+\n",
      "U-Haul : 100,000+\n",
      "Octo U: Your driving companion : 50,000+\n",
      "Flexiroam X : 100,000+\n",
      "Connect.ae - Local Search UAE : 10,000+\n",
      "Toppen af Danmark : 5,000+\n",
      "Alabama Road Trips : 10,000+\n",
      "Official AL Fishing & Hunting : 50,000+\n",
      "Where Am I At? : 10,000+\n",
      "Where Am I? GPS Loc : 10,000+\n",
      "Live Camera Viewer ★ World Webcam & IP Cam Streams : 10,000,000+\n",
      "Portal AR - Step Into Scotland : 5,000+\n",
      "Casino AZ/Talking Stick Resort : 10,000+\n",
      "Explore Sedona & Northern AZ : 10,000+\n",
      "Arizona Trail : 5,000+\n",
      "Phoenix and Arizona Cameras : 10,000+\n",
      "Experience BA : 100+\n",
      "BA Status : 100+\n",
      "Avios for Android : 100,000+\n",
      "Explore British Columbia - BC Travel Guide : 500+\n",
      "BC Highways - Road Conditions : 10,000+\n",
      "Victoria, BC | Tour City : 1,000+\n",
      "British Columbia Tourist Places (Guide) : 100+\n",
      "BG Metro - Red voznje : 1,000+\n",
      "BG Guide : 100+\n",
      "trip.bg : 1,000+\n",
      "Belo Horizonte Map offline : 1,000+\n",
      "BH Mission Playbook : 100+\n",
      "BH Rocking : 100+\n",
      "Digital Tourist BH Itinerary : 500+\n",
      "BL info : 5,000+\n",
      "BPme - Mobile Fuel Payment & BP Driver Rewards app : 10,000+\n",
      "Wherever BQ : 50+\n",
      "BU Dental GoGoldman : 100+\n",
      "BU Questrom Launch : 100+\n",
      "BU School of Public Health : 10+\n",
      "BV Aventure : 100+\n",
      "BV Rando : 100+\n",
      "Best Western To Go : 100,000+\n",
      "BW Map mobile : 10,000+\n",
      "Best Western e-Concierge Hotel : 10,000+\n",
      "24/7 BZ Reis : 100,000+\n",
      "BZ Vesper-App : 1,000+\n",
      "Restaurantführer Südbaden : 1,000+\n",
      "BZ Straußenführer : 10,000+\n",
      "California Cameras - Traffic : 10,000+\n",
      "Kiosque CD : 5+\n",
      "US 115th CD : 5+\n",
      "CE AH VLJ : 1,000+\n",
      "search.ch : 500,000+\n",
      "CJ's Coffee Cafe : 500+\n",
      "Camping and Co - Camping in Europe : 1,000+\n",
      "CQ Hotels : 10,000+\n",
      "SHUTTLLS CQ - Connect Ride Go : 5+\n",
      "Cathay Pacific : 1,000,000+\n",
      "Map of Cyprus offline : 10,000+\n",
      "DB BAHN : 500+\n",
      "DB FahrtProfi : 1,000+\n",
      "DC Metro Transit - Free : 500,000+\n",
      "DC Trails-Hop On Hop Off Tours : 5,000+\n",
      "Can I pack that? - DG App : 10,000+\n",
      "DG Cars : 10,000+\n",
      "DK Eyewitness Audio Walks : 1,000+\n",
      "DM Transfers Dalaman Transfers : 10,000+\n",
      "US DV Lottery 2020 Apply : 10,000+\n",
      "US DV Lottery 2019 : 1,000+\n",
      "DW Maps : 10,000+\n",
      "junainfo.dy.fi : 100+\n",
      "Siyaha Dz : 10,000+\n",
      "IRIS : Customer Service - DZ Algeria : 1,000+\n",
      "DZ Fly Algérie Horaire Vols : 10,000+\n",
      "EA Plus : 1,000+\n",
      "EB Events : 10,000+\n",
      "Audiowalk EB : 10+\n",
      "EF Go Ahead Tour Companion : 1,000+\n",
      "EF Summits : 100+\n",
      "EG SIM CARD (EGSIMCARD) : 10,000+\n",
      "The Emirates App : 1,000,000+\n",
      "Ek-yatri: Travel where you Belong : 1+\n",
      "EL AL Flights : 100,000+\n",
      "DreamStream By EL AL : 100,000+\n",
      "El Dorado App : 10,000+\n",
      "EO Hotels : 100+\n",
      "Fill 'er Up : 5,000+\n",
      "MAPS.ME – Offline Map and Travel Navigation : 50,000,000+\n",
      "Google Earth : 100,000,000+\n",
      "Offline Maps & Navigation : 5,000,000+\n",
      "myLPG.eu : 50,000+\n",
      "Passenger rights : 50,000+\n",
      "taxi.eu : 100,000+\n",
      "To-U - free EV public charging : 1,000+\n",
      "Bird - Enjoy The Ride : 500,000+\n",
      "eCooltra: scooter sharing. Share electric scooters : 100,000+\n",
      "XE Currency : 10,000,000+\n",
      "Etihad Airways : 500,000+\n",
      "EZ TAG Express : 10,000+\n",
      "Santa Fe Map and Walks : 1,000+\n",
      "Santa Fe VIP Tours : 100+\n",
      "Toyota Cruisers & Trucks Mag : 500+\n",
      "FL State Parks Guide : 100,000+\n",
      "Florida Travel Guide : 1,000+\n",
      "The Florida Trail Guide : 5,000+\n",
      "Florida Keys : 10,000+\n",
      "Florida Travel Guide - TOURIAS : 10,000+\n",
      "Florida map : 5,000+\n",
      "Florida Beach Wallpapers HD : 100+\n",
      "ORLANDO FLORIDA MAP : 1,000+\n",
      "Florida Offline Road Map : 10,000+\n",
      "Florida Map offline : 1,000+\n"
     ]
    }
   ],
   "source": [
    "for app in android_final_apps:\n",
    "    if app[1] == 'TRAVEL_AND_LOCAL':\n",
    "        print(app[0], ':', app[5])        "
   ]
  },
  {
   "cell_type": "code",
   "execution_count": 39,
   "id": "f8d324eb",
   "metadata": {},
   "outputs": [
    {
     "data": {
      "text/plain": [
       "1437212.2162162163"
      ]
     },
     "execution_count": 39,
     "metadata": {},
     "output_type": "execute_result"
    }
   ],
   "source": [
    "under_100_m = []\n",
    "\n",
    "for app in android_final_apps:\n",
    "    n_installs = app[5]\n",
    "    n_installs = n_installs.replace(',', '')\n",
    "    n_installs = n_installs.replace('+', '')\n",
    "    if (app[1] == 'BOOKS_AND_REFERENCE') and (float(n_installs) < 100000000):\n",
    "        under_100_m.append(float(n_installs))\n",
    "        \n",
    "sum(under_100_m) / len(under_100_m)"
   ]
  },
  {
   "cell_type": "markdown",
   "id": "356abedc",
   "metadata": {},
   "source": [
    "As we look at the `TRAVEL_AND_LOCAL` Category, we can see very few overly popular apps, which is good. This way, we can take a few ideas from specific apps within this genre to assemble a great app that will draw more user attention."
   ]
  },
  {
   "cell_type": "code",
   "execution_count": 40,
   "id": "2639f5e2",
   "metadata": {
    "scrolled": true
   },
   "outputs": [
    {
     "name": "stdout",
     "output_type": "stream",
     "text": [
      "Booking.com Travel Deals : 100,000,000+\n",
      "TripAdvisor Hotels Flights Restaurants Attractions : 100,000,000+\n",
      "Maps - Navigate & Explore : 1,000,000,000+\n",
      "Google Street View : 1,000,000,000+\n",
      "Google Earth : 100,000,000+\n"
     ]
    }
   ],
   "source": [
    "for app in android_final_apps:\n",
    "    if app[1] == 'TRAVEL_AND_LOCAL' and (app[5] == '1,000,000,000+'\n",
    "                                or app[5] == '500,000,000+'\n",
    "                                or app[5] == '100,000,000+'):\n",
    "        print(app[0], ':', app[5])\n",
    "       "
   ]
  },
  {
   "cell_type": "markdown",
   "id": "c9331f1f",
   "metadata": {},
   "source": [
    "`TRAVEL_AND_LOCAL` category has 7,036,877 installs. When looking at the data on which genre garnered more attention by installs. Many of the Apps has installs between 10,000,000 - 50,000,000."
   ]
  },
  {
   "cell_type": "code",
   "execution_count": 41,
   "id": "f66fda19",
   "metadata": {
    "scrolled": false
   },
   "outputs": [
    {
     "name": "stdout",
     "output_type": "stream",
     "text": [
      "trivago: Hotels & Travel : 50,000,000+\n",
      "Hopper - Watch & Book Flights : 5,000,000+\n",
      "TripIt: Travel Organizer : 1,000,000+\n",
      "CityMaps2Go Plan Trips Travel Guide Offline Maps : 1,000,000+\n",
      "KAYAK Flights, Hotels & Cars : 10,000,000+\n",
      "Hostelworld: Hostels & Cheap Hotels Travel App : 1,000,000+\n",
      "Google Trips - Travel Planner : 5,000,000+\n",
      "GPS Map Free : 5,000,000+\n",
      "GasBuddy: Find Cheap Gas : 10,000,000+\n",
      "Southwest Airlines : 5,000,000+\n",
      "AT&T Navigator: Maps, Traffic : 10,000,000+\n",
      "VZ Navigator : 50,000,000+\n",
      "KakaoMap - Map / Navigation : 10,000,000+\n",
      "AirAsia : 10,000,000+\n",
      "Expedia Hotels, Flights & Car Rental Travel Deals : 10,000,000+\n",
      "Goibibo - Flight Hotel Bus Car IRCTC Booking App : 10,000,000+\n",
      "Allegiant : 1,000,000+\n",
      "Amtrak : 1,000,000+\n",
      "JAL (Domestic and international flights) : 1,000,000+\n",
      "Flight & Hotel Booking App - ixigo : 5,000,000+\n",
      "Wisepilot for XPERIA™ : 5,000,000+\n",
      "VZ Navigator for Galaxy S4 : 5,000,000+\n",
      "MAIN : 1,000,000+\n",
      "Yoriza Pension - travel, lodging, pension, camping, caravan, pool villas accommodation discount : 1,000,000+\n",
      "Foursquare Swarm: Check In : 10,000,000+\n",
      "PagesJaunes - local search : 10,000,000+\n",
      "Flightradar24 Flight Tracker : 10,000,000+\n",
      "Yatra - Flights, Hotels, Bus, Trains & Cabs : 10,000,000+\n",
      "SNCF : 5,000,000+\n",
      "Fly Delta : 5,000,000+\n",
      "Skyscanner : 10,000,000+\n",
      "Despegar.com Hotels and Flights : 10,000,000+\n",
      "Navigation Plus : 1,000,000+\n",
      "2GIS: directory & navigator : 50,000,000+\n",
      "Poynt : 5,000,000+\n",
      "Gaode Map : 1,000,000+\n",
      "Priceline Hotel Deals, Rental Cars & Flights : 5,000,000+\n",
      "TravelPirates : 1,000,000+\n",
      "Free Radar Detector : 1,000,000+\n",
      "American Airlines : 5,000,000+\n",
      "Where to travel - ticket. hotel. train ticket. car ticket. travel. tickets : 1,000,000+\n",
      "United Airlines : 5,000,000+\n",
      "NTES : 10,000,000+\n",
      "Where is my Train : Indian Railway & PNR Status : 10,000,000+\n",
      "MakeMyTrip-Flight Hotel Bus Cab IRCTC Rail Booking : 10,000,000+\n",
      "Restaurant Finder : 1,000,000+\n",
      "Urbanspoon Restaurant Reviews : 5,000,000+\n",
      "Yelp: Food, Shopping, Services Nearby : 10,000,000+\n",
      "Qatar Airways : 1,000,000+\n",
      "Hipmunk Hotels & Flights : 1,000,000+\n",
      "Skiplagged — Exclusive Flights & Hotels : 1,000,000+\n",
      "British Airways : 1,000,000+\n",
      "Cheap Flights & Hotels momondo : 5,000,000+\n",
      "CheapTickets – Hotels, Flights & Travel Deals : 1,000,000+\n",
      "JetBlue : 1,000,000+\n",
      "Flights : 1,000,000+\n",
      "Cheapflights – Flight Search : 5,000,000+\n",
      "KLM - Royal Dutch Airlines : 1,000,000+\n",
      "Orbitz - Hotels, Flights & Package Deals : 1,000,000+\n",
      "Lufthansa : 1,000,000+\n",
      "easyJet: Travel App : 10,000,000+\n",
      "IndiGo : 5,000,000+\n",
      "LateRooms: Find Hotel Deals : 1,000,000+\n",
      "Choice Hotels : 1,000,000+\n",
      "Couchsurfing Travel App : 1,000,000+\n",
      "Hotwire Hotel & Car Rental App : 1,000,000+\n",
      "HomeAway Vacation Rentals : 5,000,000+\n",
      "IHG®: Hotel Deals & Rewards : 1,000,000+\n",
      "SPG: Starwood Hotels & Resorts : 1,000,000+\n",
      "Hotels.com: Book Hotel Rooms & Find Vacation Deals : 10,000,000+\n",
      "HotelTonight: Book amazing deals at great hotels : 5,000,000+\n",
      "Airbnb : 10,000,000+\n",
      "Hotels Combined - Cheap deals : 5,000,000+\n",
      "Agoda – Hotel Booking Deals : 10,000,000+\n",
      "Turo - Better Than Car Rental : 1,000,000+\n",
      "Cheap hotel deals and discounts — Hotellook : 1,000,000+\n",
      "GPS Status & Toolbox : 10,000,000+\n",
      "Airport + Flight Tracker Radar : 1,000,000+\n",
      "Scout GPS Navigation & Meet Up : 5,000,000+\n",
      "Street Panorama View : 1,000,000+\n",
      "Geo Tracker - GPS tracker : 1,000,000+\n",
      "Sygic Truck GPS Navigation : 1,000,000+\n",
      "Live Camera Viewer ★ World Webcam & IP Cam Streams : 10,000,000+\n",
      "Cathay Pacific : 1,000,000+\n",
      "The Emirates App : 1,000,000+\n",
      "MAPS.ME – Offline Map and Travel Navigation : 50,000,000+\n",
      "Offline Maps & Navigation : 5,000,000+\n",
      "XE Currency : 10,000,000+\n"
     ]
    }
   ],
   "source": [
    "for app in android_final_apps:\n",
    "    if app[1] == 'TRAVEL_AND_LOCAL' and (app[5] == '1,000,000+'\n",
    "                                or app[5] == '50,000,000+'\n",
    "                                or app[5] == '10,000,000+'\n",
    "                                or app[5] == '5,000,000+'):\n",
    "        print(app[0], ':', app[5])\n"
   ]
  },
  {
   "cell_type": "markdown",
   "id": "3051c546",
   "metadata": {},
   "source": [
    "## Conclusion"
   ]
  },
  {
   "cell_type": "markdown",
   "id": "2734c279",
   "metadata": {},
   "source": [
    "To conclude and remind us, developers are looking for a particular genre that would attract many users to visit their in-ads, which generates revenue to make more free apps. As we analyzed our data sets from Apple App Store and Google Play Store, we have noticed that immensely popular apps could be skewered by one main app that's popular and have many installs or user_ratings such as News or Video_players. Looking deeply into the numbers by averaging how much attention certain apps get, I have concluded to recommend TRAVEL for IOS and TRAVEL_AND_LOCAL as an app to look more in-depth as their main focus to on creating more free apps. Surprisingly, many people love to travel and would like apps that are very detailed with relevant information. Choosing an app that consists of flights, restaurants, transportation, locations, and other accommodations is very important. "
   ]
  }
 ],
 "metadata": {
  "kernelspec": {
   "display_name": "Python 3",
   "language": "python",
   "name": "python3"
  },
  "language_info": {
   "codemirror_mode": {
    "name": "ipython",
    "version": 3
   },
   "file_extension": ".py",
   "mimetype": "text/x-python",
   "name": "python",
   "nbconvert_exporter": "python",
   "pygments_lexer": "ipython3",
   "version": "3.8.8"
  }
 },
 "nbformat": 4,
 "nbformat_minor": 5
}
