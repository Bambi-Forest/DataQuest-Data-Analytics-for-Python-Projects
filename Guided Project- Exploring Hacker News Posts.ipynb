{
 "cells": [
  {
   "cell_type": "markdown",
   "id": "4a8e58f6",
   "metadata": {},
   "source": [
    "# Hacker News Ask HN vs Show HN posts popularity"
   ]
  },
  {
   "cell_type": "markdown",
   "id": "0d2d8c00",
   "metadata": {},
   "source": [
    "The Hacker News is the most trusted, widely-read information source regarding the latest news about technology, such as cyber attacks, computer security, and cybersecurity for ethical purposes. A plethora of vistors submit posts that receive many comments and votes depending on how interesting the post is.\n",
    "\n",
    "This particular dataset has about `300,000 rows` and we'll filter along as we analyze the data.\n",
    "\n",
    "We're particularly interested in titles that begin with Ask HN and Show HN.\n",
    "\n",
    "Ask HN - User submits posts related to asking the Hacker News community a specific question.\n",
    "\n",
    "Show HN -Users sumbit posts to show the Hacker News community a project, product, or just something interesting.\n",
    "\n",
    "For more information, please visit [Hacker News](https://www.kaggle.com/hacker-news/hacker-news-posts)\n",
    "\n",
    "Hacker News Dataset contains the following columns we may be working with:\n",
    "* id: the unique identifier from Hacker News for the post\n",
    "* title: the title of the post\n",
    "* url: the URL that the posts links to, if the post has a URL\n",
    "* num_points: the number of points the post acquired, calculated as the total number of upvotes minus the total number of downvotes\n",
    "* num_comments: the number of comments on the post\n",
    "* author: the username of the person who submitted the post\n",
    "* created_at: the date and time of the post's submission"
   ]
  },
  {
   "cell_type": "markdown",
   "id": "848f82d9",
   "metadata": {},
   "source": [
    "# Question\n",
    " We are here to compare Ask HN and Show HN to determine the following:\n",
    " - Do Ask HN or Show HN receive more comments on average?\n",
    " - Do posts created at a certain time receive more comments on average?"
   ]
  },
  {
   "cell_type": "markdown",
   "id": "68cdc8e4",
   "metadata": {},
   "source": [
    "# Opening and exploring the Data"
   ]
  },
  {
   "cell_type": "code",
   "execution_count": 1,
   "id": "cd8a4480",
   "metadata": {},
   "outputs": [],
   "source": [
    "import csv\n",
    "open_file = open('HN_posts_year_to_Sep_26_2016.csv',encoding=\"utf8\")\n",
    "read_file = csv.reader(open_file)\n",
    "dataset = list(read_file)\n",
    "h_header = dataset[0]\n",
    "hnews = dataset[1:]"
   ]
  },
  {
   "cell_type": "markdown",
   "id": "57829d23",
   "metadata": {},
   "source": [
    "Here we define a function called `explore_data` which takes in four arguments, `dataset`, `start`, `end`, and `rows_and_columns`.\n",
    "\n",
    "For readibility and functionality purposes, we created the explore_data function to take a look at a few of the records that were inside the Hacker News dataset. "
   ]
  },
  {
   "cell_type": "code",
   "execution_count": 2,
   "id": "8f35762b",
   "metadata": {
    "scrolled": false
   },
   "outputs": [
    {
     "name": "stdout",
     "output_type": "stream",
     "text": [
      "Columns:  ['id', 'title', 'url', 'num_points', 'num_comments', 'author', 'created_at'] \n",
      "\n",
      "['12579008', 'You have two days to comment if you want stem cells to be classified as your own', 'http://www.regulations.gov/document?D=FDA-2015-D-3719-0018', '1', '0', 'altstar', '9/26/2016 3:26']\n",
      "\n",
      "\n",
      "['12579005', 'SQLAR  the SQLite Archiver', 'https://www.sqlite.org/sqlar/doc/trunk/README.md', '1', '0', 'blacksqr', '9/26/2016 3:24']\n",
      "\n",
      "\n",
      "['12578997', 'What if we just printed a flatscreen television on the side of our boxes?', 'https://medium.com/vanmoof/our-secrets-out-f21c1f03fdc8#.ietxmez43', '1', '0', 'pavel_lishin', '9/26/2016 3:19']\n",
      "\n",
      "\n",
      "['12578989', 'algorithmic music', 'http://cacm.acm.org/magazines/2011/7/109891-algorithmic-composition/fulltext', '1', '0', 'poindontcare', '9/26/2016 3:16']\n",
      "\n",
      "\n",
      "['12578979', 'How the Data Vault Enables the Next-Gen Data Warehouse and Data Lake', 'https://www.talend.com/blog/2016/05/12/talend-and-Â\\x93the-data-vaultÂ\\x94', '1', '0', 'markgainor1', '9/26/2016 3:14']\n",
      "\n",
      "\n",
      "Number of Columns:  7\n",
      "Number of rows:  293119\n"
     ]
    }
   ],
   "source": [
    "def explore_data(dataset, start, end, rows_and_columns = False):\n",
    "    data_slice = dataset[start:end]\n",
    "    for each_row in data_slice:\n",
    "        print(each_row)\n",
    "        print(\"\\n\")\n",
    "        \n",
    "    if rows_and_columns:\n",
    "        print(\"Number of Columns: \", len(dataset[0]))\n",
    "        print(\"Number of rows: \", len(dataset))\n",
    "        \n",
    "print(\"Columns: \", h_header, \"\\n\")    \n",
    "explore_data(hnews,0,5,True)   "
   ]
  },
  {
   "cell_type": "markdown",
   "id": "c0b1d49d",
   "metadata": {},
   "source": [
    "# Testing purposes\n",
    "MISING DATA:\n",
    "- The total length of data in every row is 7.\n",
    "- If any row has a length of 6 or less, means there are missing data points.\n",
    "- If any data are found,print out the row of data to check and than proceed to delete that row of data if its missing values.\n"
   ]
  },
  {
   "cell_type": "code",
   "execution_count": 3,
   "id": "44bd9ff5",
   "metadata": {
    "scrolled": true
   },
   "outputs": [
    {
     "name": "stdout",
     "output_type": "stream",
     "text": [
      "\n",
      "Rows with Missing Data Points Testing Purposes\n"
     ]
    }
   ],
   "source": [
    "print(\"\\nRows with Missing Data Points Testing Purposes\")\n",
    "for each_row in hnews:\n",
    "    length = len(each_row)\n",
    "    if length < len(h_header):\n",
    "        print(each_row)\n",
    "        print('\\n')"
   ]
  },
  {
   "cell_type": "markdown",
   "id": "a02cfedb",
   "metadata": {},
   "source": [
    "# Extracting Ask HN and Show HN Posts\n",
    "\n",
    "Since we are only interested in titles from Ask HN and Show HN, we must forst extract these rows from the dataset so we can begin our analysis."
   ]
  },
  {
   "cell_type": "markdown",
   "id": "9ee88fcc",
   "metadata": {},
   "source": [
    "For Example: We will use a string method called `startswith`. \n",
    "Given a string object, lets say `string1 = \"We Love to Learn from DataQuest!\".`\n",
    "We can use the starts with methid to give a` boolean result(True or False)` to know if our string object starts with a certain choice of characters."
   ]
  },
  {
   "cell_type": "code",
   "execution_count": 4,
   "id": "5c556402",
   "metadata": {
    "scrolled": true
   },
   "outputs": [
    {
     "name": "stdout",
     "output_type": "stream",
     "text": [
      "False\n",
      "True\n"
     ]
    }
   ],
   "source": [
    "string1 = \"We Love to Learn from DataQuest!\"\n",
    "print(string1.startswith(\"We love\"))\n",
    "print(string1.startswith(\"We Love\"))"
   ]
  },
  {
   "cell_type": "markdown",
   "id": "236e9e64",
   "metadata": {},
   "source": [
    "Notice that this method is case sensitive.\n",
    "So to work around this, we can add on the method `.lower()`, which will make all the characters lowercase."
   ]
  },
  {
   "cell_type": "code",
   "execution_count": 5,
   "id": "a0af8ee7",
   "metadata": {
    "scrolled": true
   },
   "outputs": [
    {
     "name": "stdout",
     "output_type": "stream",
     "text": [
      "we love to learn from dataquest!\n"
     ]
    }
   ],
   "source": [
    "print(string1.lower())"
   ]
  },
  {
   "cell_type": "code",
   "execution_count": 6,
   "id": "db3613c1",
   "metadata": {
    "scrolled": false
   },
   "outputs": [
    {
     "name": "stdout",
     "output_type": "stream",
     "text": [
      "True\n"
     ]
    }
   ],
   "source": [
    "print(string1.lower().startswith(\"we love\"))"
   ]
  },
  {
   "cell_type": "markdown",
   "id": "37cceadd",
   "metadata": {},
   "source": [
    "Now lets begin to use `.startswith()` and `.lower()` methods to filter our dataset for only Ask HN and Show HN post titles. These posts will be seperated into their own lists `show_hn` which will only contain Show HN posts and `ask_hn` which will only contain Ask HN posts.\n",
    "Since we are not interested in other post types, we'll just add them to `other_posts` list."
   ]
  },
  {
   "cell_type": "code",
   "execution_count": 7,
   "id": "e91cb725",
   "metadata": {
    "scrolled": true
   },
   "outputs": [
    {
     "name": "stdout",
     "output_type": "stream",
     "text": [
      "Number of Ask HN Posts: \n",
      " 9139\n",
      "Number of Show HN Posts: \n",
      " 10158\n",
      "Number of other Posts: \n",
      " 282961\n"
     ]
    }
   ],
   "source": [
    "show_hn_posts = []\n",
    "ask_hn_posts = []\n",
    "other_posts = []\n",
    "\n",
    "for each_row in hnews:\n",
    "    title_filter = each_row[1]\n",
    "    \n",
    "    if title_filter.lower().startswith(\"ask hn\"):\n",
    "        ask_hn_posts.append(each_row)\n",
    "    if title_filter.lower().startswith('show hn'):\n",
    "        show_hn_posts.append(each_row)\n",
    "    else:\n",
    "        other_posts.append(each_row)\n",
    "        \n",
    "print(\"Number of Ask HN Posts: \\n\", len(ask_hn_posts))  \n",
    "print(\"Number of Show HN Posts: \\n\",len(show_hn_posts))\n",
    "print(\"Number of other Posts: \\n\",len(other_posts))"
   ]
  },
  {
   "cell_type": "markdown",
   "id": "50dc1b52",
   "metadata": {},
   "source": [
    "Now let's take a quick look at the number of rows we have in the Ask Post and Show Posts. We notice there is only a little over a thousand difference in posts between Ask HN and Show HN posts. Fortunately, the data at this point is not sqered by a large margin since the number of posts is reativly close in size. \n",
    "\n",
    "- Number of Ask HN Posts: \n",
    " 9139\n",
    "- Number of Show HN Posts: \n",
    " 10158"
   ]
  },
  {
   "cell_type": "markdown",
   "id": "2a20e8a2",
   "metadata": {},
   "source": [
    "Below we showcase the first five rows in the `Show HN posts` that were added to our `show_hn_posts` list."
   ]
  },
  {
   "cell_type": "code",
   "execution_count": 8,
   "id": "c64d480d",
   "metadata": {
    "scrolled": false
   },
   "outputs": [
    {
     "name": "stdout",
     "output_type": "stream",
     "text": [
      "['12578335', 'Show HN: Finding puns computationally', 'http://puns.samueltaylor.org/', '2', '0', 'saamm', '9/26/2016 0:36']\n",
      "\n",
      "\n",
      "['12578182', 'Show HN: A simple library for complicated animations', 'https://christinecha.github.io/choreographer-js/', '1', '0', 'christinecha', '9/26/2016 0:01']\n",
      "\n",
      "\n",
      "['12578098', 'Show HN: WebGL visualization of DNA sequences', 'http://grondilu.github.io/dna.html', '1', '0', 'grondilu', '9/25/2016 23:44']\n",
      "\n",
      "\n",
      "['12577991', 'Show HN: Pomodoro-centric, heirarchical project management with ES6 modules', 'https://github.com/jakebian/zeal', '2', '0', 'dbranes', '9/25/2016 23:17']\n",
      "\n",
      "\n",
      "['12577142', 'Show HN: Jumble  Essays on the go #PaulInYourPocket', 'https://itunes.apple.com/us/app/jumble-find-startup-essay/id1150939197?ls=1&mt=8', '1', '1', 'ryderj', '9/25/2016 20:06']\n",
      "\n",
      "\n"
     ]
    }
   ],
   "source": [
    "explore_data(show_hn_posts,0,5)"
   ]
  },
  {
   "cell_type": "markdown",
   "id": "f6fbf0a2",
   "metadata": {},
   "source": [
    "Below we showcase the first five rows in the `Ask HN posts` that were added to our `ask_hn_posts` list."
   ]
  },
  {
   "cell_type": "code",
   "execution_count": 9,
   "id": "658ffb42",
   "metadata": {
    "scrolled": false
   },
   "outputs": [
    {
     "name": "stdout",
     "output_type": "stream",
     "text": [
      "['12578908', 'Ask HN: What TLD do you use for local development?', '', '4', '7', 'Sevrene', '9/26/2016 2:53']\n",
      "\n",
      "\n",
      "['12578522', 'Ask HN: How do you pass on your work when you die?', '', '6', '3', 'PascLeRasc', '9/26/2016 1:17']\n",
      "\n",
      "\n",
      "['12577908', 'Ask HN: How a DNS problem can be limited to a geographic region?', '', '1', '0', 'kuon', '9/25/2016 22:57']\n",
      "\n",
      "\n",
      "['12577870', 'Ask HN: Why join a fund when you can be an angel?', '', '1', '3', 'anthony_james', '9/25/2016 22:48']\n",
      "\n",
      "\n",
      "['12577647', 'Ask HN: Someone uses stock trading as passive income?', '', '5', '2', '00taffe', '9/25/2016 21:50']\n",
      "\n",
      "\n"
     ]
    }
   ],
   "source": [
    "explore_data(ask_hn_posts,0,5)"
   ]
  },
  {
   "cell_type": "markdown",
   "id": "5ff7b990",
   "metadata": {},
   "source": [
    "## Calculating the Average Number of Comments for Ask HN and Show HN Posts\n",
    "- Now we will take a look at how many comments does Ask HN and Show HN lists generates.\n",
    "- We'll be taking a look at the `num_comments` column to gather our data."
   ]
  },
  {
   "cell_type": "markdown",
   "id": "e19df148",
   "metadata": {},
   "source": [
    "## Ask HN Comments\n",
    "- An average of each Ask HN post with comments garner about an average of 14 comments.\n",
    "\n",
    "An empty list called `num_ask_comments` will house the number of comments given to any Ask HN post.\n",
    "\n",
    "If a comment is greater than 0:\n",
    "\n",
    "- The sum of all comments will be added to total_ask_comments.\n",
    "- Each instance of a comment will be added to the num_ask_comment list.\n",
    "\n",
    "Finally to obtain the `average number of comments per Ask HN post`, The total number of ask comments will be divided by the number of ask comments which were addded to the list.\n"
   ]
  },
  {
   "cell_type": "code",
   "execution_count": 10,
   "id": "f821574f",
   "metadata": {
    "scrolled": true
   },
   "outputs": [
    {
     "name": "stdout",
     "output_type": "stream",
     "text": [
      "Total Number of comments: \n",
      " 94986\n",
      "Average Number of comments per post: \n",
      " 14\n"
     ]
    }
   ],
   "source": [
    "num_ask_comment = []\n",
    "total_ask_comments = 0\n",
    "average_ask_comments = 0\n",
    "\n",
    "for each_row in ask_hn_posts:\n",
    "    each_comment = int(each_row[4])\n",
    "    if each_comment > 0:\n",
    "        total_ask_comments += each_comment\n",
    "        num_ask_comment.append(each_comment)\n",
    "average_ask_comments =   total_ask_comments / len(num_ask_comment)\n",
    "\n",
    "print(\"Total Number of comments: \\n\", total_ask_comments)\n",
    "print(\"Average Number of comments per post: \\n\", round(average_ask_comments))\n"
   ]
  },
  {
   "cell_type": "markdown",
   "id": "19c5aec6",
   "metadata": {},
   "source": [
    "## Show HN Comments\n",
    "- For about each Show post with comments garner about an average of 10 comments.\n",
    "\n",
    "An empty list called `num_show_comments` will house the number of comments given to any Show HN post.\n",
    "\n",
    "If a comment is greater than 0:\n",
    "\n",
    "- The sum of all comments will be added to total_show_comments.\n",
    "- Each instance of a comment will be added to the num_show_comment list.\n",
    "\n",
    "Finally to obtain the `average number of comments per Show HN post`, The total number of show comments will be divided by the number of ask comments which were addded to the list."
   ]
  },
  {
   "cell_type": "code",
   "execution_count": 11,
   "id": "69fd3558",
   "metadata": {
    "scrolled": true
   },
   "outputs": [
    {
     "name": "stdout",
     "output_type": "stream",
     "text": [
      "Total Number of comments: \n",
      " 49633\n",
      "Average Number of comments per post: \n",
      " 10\n"
     ]
    }
   ],
   "source": [
    "num_show_comment = []\n",
    "total_show_comments = 0\n",
    "average_show_comments = 0\n",
    "\n",
    "for each_row in show_hn_posts:\n",
    "    each_comment = int(each_row[4])\n",
    "    if each_comment > 0:\n",
    "        total_show_comments += each_comment\n",
    "        num_show_comment.append(each_comment)\n",
    "average_show_comments =   total_show_comments / len(num_show_comment)\n",
    "\n",
    "print(\"Total Number of comments: \\n\", total_show_comments)\n",
    "print(\"Average Number of comments per post: \\n\", round(average_show_comments))\n"
   ]
  },
  {
   "cell_type": "markdown",
   "id": "eb1063bb",
   "metadata": {},
   "source": [
    "## Ask vs Show: Which HN Posts receive more Comments?\n",
    "## Winner: Ask HN Posts"
   ]
  },
  {
   "cell_type": "markdown",
   "id": "2396e7b3",
   "metadata": {},
   "source": [
    "Based on our analysis, earlier in our data we determined that Show HN Posts have more Posts. As we continue to delve deeper into calculating our average number of comments per post. The results are surprising.\n",
    "\n",
    "On Average `Ask HN posts` receive  14 comments per Ask HN post versus their counterpart `Show HN` receives `10 comments` per post on average. "
   ]
  },
  {
   "cell_type": "markdown",
   "id": "c1dcae99",
   "metadata": {},
   "source": [
    "# Number of Ask Posts and Comments by Hour Created\n",
    "So far we have determined the following:\n",
    "- Ask HN posts garner more comments with an average of 14.\n",
    "- Ask receives more comments than Show HN posts.\n",
    "\n",
    "Now that we know AsK HN Posts are more likely to receive comments, we will use Ask HN Posts data moving forward to continue our analysis. \n",
    "\n",
    "Now we must determine if Ask posts created at a certain time will garner more comments.\n",
    "To acheive this result,we must do the following:\n",
    "1. Calculate the number of ask posts created in each hour of the day, along with the number of comments received.\n",
    "2. Calculate the average number of comments ask posts receive by hour created."
   ]
  },
  {
   "cell_type": "markdown",
   "id": "4085f023",
   "metadata": {},
   "source": [
    "## Part One: Number of ask posts created per hour & number of comments received"
   ]
  },
  {
   "cell_type": "markdown",
   "id": "156ee546",
   "metadata": {},
   "source": [
    "We'll use the `datetime module` to work with the `created_at` column.\n",
    "\n",
    "For Example: \n",
    "We'll take a string that has a date and extract that data to be used inside a variable using the `datetime.strptime() constructor to parse dates stored as strings and return datetime objects`."
   ]
  },
  {
   "cell_type": "code",
   "execution_count": 12,
   "id": "dff224a7",
   "metadata": {
    "scrolled": true
   },
   "outputs": [
    {
     "name": "stdout",
     "output_type": "stream",
     "text": [
      "2012-11-15 00:00:00\n"
     ]
    }
   ],
   "source": [
    "import datetime as dt\n",
    "date_string = \"November 15, 2012\"\n",
    "date_datetime = dt.datetime.strptime(date_string, \"%B %d, %Y\")\n",
    "print(date_datetime)"
   ]
  },
  {
   "cell_type": "markdown",
   "id": "cdd8e767",
   "metadata": {},
   "source": [
    "Now let's use these techniques to parse every string date in our dataset as a datetime.\n",
    "\n",
    "## Preparation\n"
   ]
  },
  {
   "cell_type": "markdown",
   "id": "3227f1ba",
   "metadata": {},
   "source": [
    "We will import the `datetime module` as an alias called `dt` to reduce confusion when calling the `datetime class`.\n",
    "\n",
    "`result_list` is a list created that will house an inner list containing the date and time in one column and the number of comments in the other.\n",
    "\n",
    "`counts_by_hour` is a dictionary that will house the number of times per hour a post is created.\n",
    "\n",
    "`comments_by_hour`is a dictionary that will house the total number of comments per hour.\n",
    "\n",
    "\n",
    "`created_at` variable will contain the date and time that we pull from our 'ask_hn_posts' dataset.\n",
    "\n",
    "`comments` variable will contain comments and converted to int datatypes to better analyze our data.\n",
    "\n",
    "To reduce the irrevelant data with no comments, only posts with comments will be recorded and appended to the result_list.\n",
    "\n",
    "`ask_hn_final_post` will house all rows that do now have comments as 0.\n",
    "\n"
   ]
  },
  {
   "cell_type": "code",
   "execution_count": 13,
   "id": "50b9bf89",
   "metadata": {
    "scrolled": true
   },
   "outputs": [],
   "source": [
    "import datetime as dt\n",
    "\n",
    "ask_hn_final_posts = []\n",
    "result_list = []\n",
    "counts_by_hour = {}\n",
    "comments_by_hour = {}\n",
    "\n",
    "for each_row in ask_hn_posts:\n",
    "    #column created_at\n",
    "    created_at = each_row[6]\n",
    "    comments = int(each_row[4])\n",
    "    if comments > 0:\n",
    "        result_list.append([created_at,comments ])\n",
    "        ask_hn_final_posts.append(each_row)\n",
    "        \n"
   ]
  },
  {
   "cell_type": "markdown",
   "id": "599ec2e6",
   "metadata": {},
   "source": [
    "Sample of the `ask_hn_final_posts` after removing rows with 0 comments."
   ]
  },
  {
   "cell_type": "code",
   "execution_count": 14,
   "id": "aeec9d1c",
   "metadata": {},
   "outputs": [
    {
     "name": "stdout",
     "output_type": "stream",
     "text": [
      "['id', 'title', 'url', 'num_points', 'num_comments', 'author', 'created_at'] \n",
      "\n",
      "['12578908', 'Ask HN: What TLD do you use for local development?', '', '4', '7', 'Sevrene', '9/26/2016 2:53']\n",
      "\n",
      "\n",
      "['12578522', 'Ask HN: How do you pass on your work when you die?', '', '6', '3', 'PascLeRasc', '9/26/2016 1:17']\n",
      "\n",
      "\n",
      "['12577870', 'Ask HN: Why join a fund when you can be an angel?', '', '1', '3', 'anthony_james', '9/25/2016 22:48']\n",
      "\n",
      "\n",
      "Number of Columns:  7\n",
      "Number of rows:  6911\n"
     ]
    }
   ],
   "source": [
    "print(h_header, \"\\n\")    \n",
    "explore_data(ask_hn_final_posts,0,3,True)"
   ]
  },
  {
   "cell_type": "markdown",
   "id": "3824f37e",
   "metadata": {},
   "source": [
    "Sample of the `result_list` containing `date, time, and number of comments`."
   ]
  },
  {
   "cell_type": "code",
   "execution_count": 15,
   "id": "7c6f46f3",
   "metadata": {},
   "outputs": [
    {
     "name": "stdout",
     "output_type": "stream",
     "text": [
      "[['9/26/2016 2:53', 7], ['9/26/2016 1:17', 3], ['9/25/2016 22:48', 3]]\n"
     ]
    }
   ],
   "source": [
    "print(result_list[:3])"
   ]
  },
  {
   "cell_type": "markdown",
   "id": "9c5b1282",
   "metadata": {},
   "source": [
    "## Extracting the Date, Hour, and Number of comments\n",
    "- `date_time` contains the Date and Time\n",
    "- `comment` contains the comments\n",
    "- `the_date` variable uses the datetime.strptime() method to parse the date and time.\n",
    "- `only_hour` variable uses the datetime.strftime() method to select just the hour.\n",
    "\n",
    "If the hour is not in `counts_by_hour`:\n",
    "\n",
    "* Create the key in counts_by_hour, and set it equal to 1.\n",
    "* Create the key in comments_by_hour, and set it equal to the comment number.\n",
    "\n",
    "If the hour is already in `counts_by_hour`:\n",
    "\n",
    "* Increment the value in counts_by_hour by 1.\n",
    "* Increment the value in comments_by_hour by the comment number.    "
   ]
  },
  {
   "cell_type": "code",
   "execution_count": 16,
   "id": "d193b581",
   "metadata": {},
   "outputs": [],
   "source": [
    "for each_date_time in result_list:\n",
    "    date_time = each_date_time[0]\n",
    "    comment = each_date_time[1]\n",
    "    \n",
    "    the_date = dt.datetime.strptime(date_time, \"%m/%d/%Y %H:%M\")\n",
    "    only_hour = dt.datetime.strftime(the_date, \"%H\")\n",
    "    \n",
    "    if only_hour not in counts_by_hour:\n",
    "        counts_by_hour[only_hour] = 1\n",
    "        comments_by_hour[only_hour] = comment\n",
    "    else:\n",
    "        counts_by_hour[only_hour] += 1\n",
    "        comments_by_hour[only_hour] += comment "
   ]
  },
  {
   "cell_type": "markdown",
   "id": "fc12fcbd",
   "metadata": {},
   "source": [
    "## Results\n",
    "Now we have the following data regarding the Ask HN posts:\n",
    "- Number of posts per hour:\n",
    "- Number of comments per hour:"
   ]
  },
  {
   "cell_type": "code",
   "execution_count": 33,
   "id": "f81d7efa",
   "metadata": {
    "scrolled": false
   },
   "outputs": [
    {
     "name": "stdout",
     "output_type": "stream",
     "text": [
      "Number of posts per hour: \n",
      " {'02': 227, '01': 223, '22': 287, '21': 407, '19': 420, '17': 404, '15': 467, '14': 378, '13': 326, '11': 251, '10': 219, '09': 176, '07': 157, '03': 212, '16': 415, '08': 190, '00': 231, '23': 276, '20': 392, '18': 452, '12': 274, '04': 186, '06': 176, '05': 165}\n",
      "\n",
      "\n",
      "Number of comments per hour: \n",
      " {'02': 2996, '01': 2089, '22': 3372, '21': 4500, '19': 3954, '17': 5547, '15': 18525, '14': 4972, '13': 7245, '11': 2797, '10': 3013, '09': 1477, '07': 1585, '03': 2154, '16': 4466, '08': 2362, '00': 2277, '23': 2297, '20': 4462, '18': 4877, '12': 4234, '04': 2360, '06': 1587, '05': 1838}\n"
     ]
    }
   ],
   "source": [
    "print(\"Number of posts per hour: \\n\", counts_by_hour)\n",
    "print(\"\\n\")\n",
    "print(\"Number of comments per hour: \\n\",comments_by_hour)"
   ]
  },
  {
   "cell_type": "markdown",
   "id": "53c73f38",
   "metadata": {},
   "source": [
    "## Calculating the Average Number of Comments for Ask HN Posts by Hour"
   ]
  },
  {
   "cell_type": "markdown",
   "id": "00f5dbd4",
   "metadata": {},
   "source": [
    "Next we'll be using the counts_by_hour and comments_by_hour dictionaries to calculate the average number of comments for posts created during each hour of the day."
   ]
  },
  {
   "cell_type": "markdown",
   "id": "07f4b5db",
   "metadata": {},
   "source": [
    "As an example before we start analyzing again:\n",
    "   \n",
    "   To illustrate the technique, let's work with the following dictionary:"
   ]
  },
  {
   "cell_type": "code",
   "execution_count": 18,
   "id": "28abd2a8",
   "metadata": {},
   "outputs": [],
   "source": [
    "sample_dict = {\n",
    "                'apple': 2, \n",
    "                'banana': 4, \n",
    "                'orange': 6\n",
    "               }"
   ]
  },
  {
   "cell_type": "markdown",
   "id": "c8137c44",
   "metadata": {},
   "source": [
    "Suppose we wanted to multiply each of the values by ten and return the results as a list of lists. We can use the following code:"
   ]
  },
  {
   "cell_type": "code",
   "execution_count": 19,
   "id": "72c3c963",
   "metadata": {
    "scrolled": true
   },
   "outputs": [
    {
     "name": "stdout",
     "output_type": "stream",
     "text": [
      "[['apple', 20], ['banana', 40], ['orange', 60]]\n"
     ]
    }
   ],
   "source": [
    "fruits = []\n",
    "\n",
    "for fruit in sample_dict:\n",
    "    fruits.append([fruit, 10*sample_dict[fruit]])\n",
    "    \n",
    "#results\n",
    "print(fruits)"
   ]
  },
  {
   "cell_type": "markdown",
   "id": "f7c1981e",
   "metadata": {},
   "source": [
    "In the example above, we did the following:\n",
    "\n",
    "- Initialized an empty list (of lists) and assigned it to fruits\n",
    "\n",
    "Iterated over the keys of sample_dict and appended to fruits a list with the following attributes:\n",
    "- The first element is the key from sample_dict.\n",
    "- The second element is the value corresponding to that key multiplied by ten.\n",
    "\n",
    "Let's use this format to create a list of lists containing the hours during which posts were created and the average number of comments those posts received.\n",
    "\n"
   ]
  },
  {
   "cell_type": "markdown",
   "id": "a96925e2",
   "metadata": {},
   "source": [
    "As we can see printed is a list of lists in which the first element is the hour and the second element is the average number of comments per post all contained within the `avg_list_hour` list.\n",
    "- We iterate through counts_by_hour and comments_by_hour.\n",
    "- per hour, we get the average of comments per post by dividing the number of comments by the number of posts created."
   ]
  },
  {
   "cell_type": "code",
   "execution_count": 20,
   "id": "3e35ad8f",
   "metadata": {},
   "outputs": [
    {
     "name": "stdout",
     "output_type": "stream",
     "text": [
      "Average number of Comments for Ask HN Posts by Hour: \n",
      "['02', 13.198237885462555]\n",
      "['01', 9.367713004484305]\n",
      "['22', 11.749128919860627]\n",
      "['21', 11.056511056511056]\n",
      "['19', 9.414285714285715]\n",
      "['17', 13.73019801980198]\n",
      "['15', 39.66809421841542]\n",
      "['14', 13.153439153439153]\n",
      "['13', 22.2239263803681]\n",
      "['11', 11.143426294820717]\n",
      "['10', 13.757990867579908]\n",
      "['09', 8.392045454545455]\n",
      "['07', 10.095541401273886]\n",
      "['03', 10.160377358490566]\n",
      "['16', 10.76144578313253]\n",
      "['08', 12.43157894736842]\n",
      "['00', 9.857142857142858]\n",
      "['23', 8.322463768115941]\n",
      "['20', 11.38265306122449]\n",
      "['18', 10.789823008849558]\n",
      "['12', 15.452554744525548]\n",
      "['04', 12.688172043010752]\n",
      "['06', 9.017045454545455]\n",
      "['05', 11.139393939393939]\n"
     ]
    }
   ],
   "source": [
    "avg_by_hour = []\n",
    "\n",
    "for hour_comment in counts_by_hour:\n",
    "    avg_by_hour.append( [hour_comment, comments_by_hour[hour_comment] / counts_by_hour[hour_comment] ] )\n",
    "\n",
    "print(\"Average number of Comments for Ask HN Posts by Hour: \")\n",
    "for row in avg_by_hour:\n",
    "    print(row)    "
   ]
  },
  {
   "cell_type": "markdown",
   "id": "6a5b779a",
   "metadata": {},
   "source": [
    "# Sorting and printing values from a list of lists"
   ]
  },
  {
   "cell_type": "markdown",
   "id": "9a76f9f4",
   "metadata": {},
   "source": [
    "Let's finish by sorting the list of lists and printing the five highest values in a format that's easier to read."
   ]
  },
  {
   "cell_type": "markdown",
   "id": "c62b54ec",
   "metadata": {},
   "source": [
    "First step is to swap the first list element with the second list element, meaning we'll be swapping the hour and average number of comments per hour placement within the list.\n",
    "\n",
    "By creating an empty list, we would transfer our newly created swapped list to the `swap_avg_by_hour` empty list and print out the results."
   ]
  },
  {
   "cell_type": "code",
   "execution_count": 21,
   "id": "34652523",
   "metadata": {
    "scrolled": false
   },
   "outputs": [
    {
     "name": "stdout",
     "output_type": "stream",
     "text": [
      "[13.198237885462555, '02']\n",
      "[9.367713004484305, '01']\n",
      "[11.749128919860627, '22']\n",
      "[11.056511056511056, '21']\n",
      "[9.414285714285715, '19']\n",
      "[13.73019801980198, '17']\n",
      "[39.66809421841542, '15']\n",
      "[13.153439153439153, '14']\n",
      "[22.2239263803681, '13']\n",
      "[11.143426294820717, '11']\n",
      "[13.757990867579908, '10']\n",
      "[8.392045454545455, '09']\n",
      "[10.095541401273886, '07']\n",
      "[10.160377358490566, '03']\n",
      "[10.76144578313253, '16']\n",
      "[12.43157894736842, '08']\n",
      "[9.857142857142858, '00']\n",
      "[8.322463768115941, '23']\n",
      "[11.38265306122449, '20']\n",
      "[10.789823008849558, '18']\n",
      "[15.452554744525548, '12']\n",
      "[12.688172043010752, '04']\n",
      "[9.017045454545455, '06']\n",
      "[11.139393939393939, '05']\n"
     ]
    }
   ],
   "source": [
    "swap_avg_by_hour = []\n",
    "for each_row in avg_by_hour:\n",
    "    swap_avg_by_hour.append([each_row[1],each_row[0]] )\n",
    "for row in swap_avg_by_hour:   \n",
    "    print(row)    "
   ]
  },
  {
   "cell_type": "markdown",
   "id": "b66bed00",
   "metadata": {},
   "source": [
    "Next we will use the sorted() function to sort the swap_avg_by_hour in descending order.\n",
    "\n",
    "Since the first column contains the average number of comments per post created. The sorted list will be sorted by average number of comments."
   ]
  },
  {
   "cell_type": "code",
   "execution_count": 22,
   "id": "24ad6343",
   "metadata": {
    "scrolled": false
   },
   "outputs": [
    {
     "name": "stdout",
     "output_type": "stream",
     "text": [
      "[39.66809421841542, '15']\n",
      "[22.2239263803681, '13']\n",
      "[15.452554744525548, '12']\n",
      "[13.757990867579908, '10']\n",
      "[13.73019801980198, '17']\n",
      "[13.198237885462555, '02']\n",
      "[13.153439153439153, '14']\n",
      "[12.688172043010752, '04']\n",
      "[12.43157894736842, '08']\n",
      "[11.749128919860627, '22']\n",
      "[11.38265306122449, '20']\n",
      "[11.143426294820717, '11']\n",
      "[11.139393939393939, '05']\n",
      "[11.056511056511056, '21']\n",
      "[10.789823008849558, '18']\n",
      "[10.76144578313253, '16']\n",
      "[10.160377358490566, '03']\n",
      "[10.095541401273886, '07']\n",
      "[9.857142857142858, '00']\n",
      "[9.414285714285715, '19']\n",
      "[9.367713004484305, '01']\n",
      "[9.017045454545455, '06']\n",
      "[8.392045454545455, '09']\n",
      "[8.322463768115941, '23']\n"
     ]
    }
   ],
   "source": [
    "sorted_swap = sorted(swap_avg_by_hour, reverse = True)\n",
    "for entry in sorted_swap:\n",
    "    swap = [entry[0], entry[1]]  \n",
    "    print(swap)"
   ]
  },
  {
   "cell_type": "markdown",
   "id": "de927a1c",
   "metadata": {},
   "source": [
    "Below we have our average comments sorted into the top 5 Hours in which the most comments are posted.\n",
    "Surprisingly 3:00 pm has the highest average followed by 1:00 pm Eastern Time."
   ]
  },
  {
   "cell_type": "code",
   "execution_count": 23,
   "id": "cc7de58f",
   "metadata": {
    "scrolled": true
   },
   "outputs": [
    {
     "name": "stdout",
     "output_type": "stream",
     "text": [
      "Top 5 Hours for Ask Posts Comments\n",
      "[39.66809421841542, '15']\n",
      "[22.2239263803681, '13']\n",
      "[15.452554744525548, '12']\n",
      "[13.757990867579908, '10']\n",
      "[13.73019801980198, '17']\n"
     ]
    }
   ],
   "source": [
    "print(\"Top 5 Hours for Ask Posts Comments\")\n",
    "for row in sorted_swap[:5]:\n",
    "    print(row)"
   ]
  },
  {
   "cell_type": "code",
   "execution_count": 24,
   "id": "069308c4",
   "metadata": {
    "scrolled": true
   },
   "outputs": [
    {
     "name": "stdout",
     "output_type": "stream",
     "text": [
      "TOP 5 HOURS in which per post receive a number of comments\n",
      "\n",
      "15:00: 39.67 average comments per post.\n",
      "13:00: 22.22 average comments per post.\n",
      "12:00: 15.45 average comments per post.\n",
      "10:00: 13.76 average comments per post.\n",
      "17:00: 13.73 average comments per post.\n"
     ]
    }
   ],
   "source": [
    "print(\"TOP 5 HOURS in which per post receive a number of comments\\n\")\n",
    "count = 1\n",
    "\n",
    "for each_date_time in sorted_swap[:5]:   \n",
    "    time = each_date_time[1]\n",
    "    comment = each_date_time[0]\n",
    "    \n",
    "    the_date = dt.datetime.strptime(time, \"%H\")\n",
    "    only_hour = dt.datetime.strftime(the_date, \"%H\")\n",
    "\n",
    "    Top_five_hours = \"{}:{}: {:.2f} average comments per post.\".format(only_hour,\"00\",comment )\n",
    "    print(Top_five_hours)\n",
    "    "
   ]
  },
  {
   "cell_type": "markdown",
   "id": "1eba7872",
   "metadata": {},
   "source": [
    "# Conclusion"
   ]
  },
  {
   "cell_type": "markdown",
   "id": "6cd1b659",
   "metadata": {},
   "source": [
    "The times at which this data set was scraped were in Eastern Time.\n",
    "During our analysis, we wanted to know is Ask Hn or Show HN posts garner more comments, which concluded `Ask HN posts was the winner`.\n",
    "\n",
    "Now we wanted to know at what specific times did the average number of comments were given based on what time the Ask HN post created.\n",
    "\n",
    "## The largest average comments belong to: \n",
    "- 15:00 (3:00 pm) \n",
    "- 13:00 (1:00 pm)\n",
    "\n",
    "These time could be due to when most people are having lunch break or getting off work. "
   ]
  },
  {
   "cell_type": "code",
   "execution_count": null,
   "id": "28921f46",
   "metadata": {},
   "outputs": [],
   "source": []
  }
 ],
 "metadata": {
  "kernelspec": {
   "display_name": "Python 3",
   "language": "python",
   "name": "python3"
  },
  "language_info": {
   "codemirror_mode": {
    "name": "ipython",
    "version": 3
   },
   "file_extension": ".py",
   "mimetype": "text/x-python",
   "name": "python",
   "nbconvert_exporter": "python",
   "pygments_lexer": "ipython3",
   "version": "3.8.8"
  }
 },
 "nbformat": 4,
 "nbformat_minor": 5
}
